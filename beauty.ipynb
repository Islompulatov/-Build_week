{
 "cells": [
  {
   "cell_type": "code",
   "execution_count": 1,
   "metadata": {},
   "outputs": [],
   "source": [
    "import selenium\n",
    "from selenium import webdriver\n",
    "from selenium.webdriver.common.keys import Keys\n",
    "from selenium.webdriver.common.by import By\n",
    "from time import sleep\n",
    "from bs4 import BeautifulSoup\n",
    "import requests\n",
    "import pandas as pd"
   ]
  },
  {
   "cell_type": "code",
   "execution_count": 2,
   "metadata": {},
   "outputs": [
    {
     "name": "stderr",
     "output_type": "stream",
     "text": [
      "C:\\Users\\ritth\\AppData\\Local\\Temp\\ipykernel_24288\\1128523623.py:2: DeprecationWarning: executable_path has been deprecated, please pass in a Service object\n",
      "  driver = webdriver.Chrome(pth)\n",
      "C:\\Users\\ritth\\AppData\\Local\\Temp\\ipykernel_24288\\1128523623.py:16: DeprecationWarning: find_elements_by_* commands are deprecated. Please use find_elements() instead\n",
      "  name = driver.find_elements_by_xpath(f\"/html/body/yelp-react-root/div[1]/div[3]/div[2]/div/div[1]/div/main/div/ul/li[{i}]/div/div/div/div[2]/div[1]/div[1]\")\n",
      "C:\\Users\\ritth\\AppData\\Local\\Temp\\ipykernel_24288\\1128523623.py:33: DeprecationWarning: find_elements_by_* commands are deprecated. Please use find_elements() instead\n",
      "  mores = driver.find_elements_by_class_name(\"css-1m051bw\")\n"
     ]
    }
   ],
   "source": [
    "pth = 'chromedriver.exe'\n",
    "driver = webdriver.Chrome(pth)\n",
    "for i in range(0,240,10):\n",
    "    url = f'https://www.yelp.co.uk/search?find_desc=hotels&find_loc=London%2C+United+Kingdom&start={i}'\n",
    " \n",
    "    \n",
    "    driver.get(url)\n",
    "    \n",
    "    try:\n",
    "        button =driver.find_element(By.XPATH, \"/html/body/div[2]/div[3]/div/div[1]/div/div[2]/div/button[3]\").click()\n",
    "    except:\n",
    "        pass\n",
    "\n",
    "    for i in range(4,14):\n",
    "        \n",
    "        name = driver.find_elements_by_xpath(f\"/html/body/yelp-react-root/div[1]/div[3]/div[2]/div/div[1]/div/main/div/ul/li[{i}]/div/div/div/div[2]/div[1]/div[1]\")\n",
    "        \n",
    "        hotel_name = []\n",
    "        avg_review = []\n",
    "        hotel_location = []\n",
    "        avg_rating = []\n",
    "        amenities_hotel = []\n",
    "        for element in name:\n",
    "        \n",
    "              \n",
    "\n",
    "            hotel_name.append(element.text.split(\"\\n\")[0][3:])\n",
    "            avg_review.append(element.text.split(\"\\n\")[1])\n",
    "            # rating_avg = driver.find_element(By.XPATH, \"/html/body/yelp-react-root/div[1]/div[3]/div[1]/div[1]/div/div/div[2]/div[1]/span/div\").get_attribute('aria-label')\n",
    "            \n",
    "        \n",
    "\n",
    "            mores = driver.find_elements_by_class_name(\"css-1m051bw\")\n",
    "            items = []\n",
    "            for element in mores:\n",
    "                item = element.get_attribute(\"href\")\n",
    "                items.append(item)\n",
    "\n",
    "            for i in items:\n",
    "                try:\n",
    "                    page = requests.get(i)\n",
    "                    soup = BeautifulSoup(page.content, \"html.parser\")\n",
    "                    amenities = soup.find_all('div', class_ ='arrange__09f24__LDfbs gutter-2__09f24__CCmUo layout-wrap__09f24__GEBlv layout-2-units__09f24__PsGVW border-color--default__09f24__NPAKY')\n",
    "                    amenities_hotel.append(amenities[0].text.split(\",\"))\n",
    "                \n",
    "                except IndexError:\n",
    "                    amenities_hotel.append(\"NaN\")\n",
    "    "
   ]
  },
  {
   "cell_type": "code",
   "execution_count": null,
   "metadata": {},
   "outputs": [],
   "source": [
    "hotels = {\"Name of hotel\": hotel_name,\n",
    "             \"Average Review\": avg_review,\n",
    "           \"Hotel Location\": hotel_location,\n",
    "             \"Amenities and more\": amenities_hotel}\n",
    "    \n",
    "df = pd.DataFrame(hotels)\n",
    "    \n",
    "a = df.to_csv(\"Hotel.csv\")"
   ]
  },
  {
   "cell_type": "code",
   "execution_count": null,
   "metadata": {},
   "outputs": [
    {
     "name": "stdout",
     "output_type": "stream",
     "text": [
      "Empty DataFrame\n",
      "Columns: [Name of hotel, Average Review, Hotel Location, Amenities and more]\n",
      "Index: []\n"
     ]
    }
   ],
   "source": [
    "print(df)"
   ]
  }
 ],
 "metadata": {
  "interpreter": {
   "hash": "770021e68aae5e5bc49f7a3b6edb919a4a251fef8e7696fd47196c25263b13c4"
  },
  "kernelspec": {
   "display_name": "Python 3.9.7 ('base')",
   "language": "python",
   "name": "python3"
  },
  "language_info": {
   "codemirror_mode": {
    "name": "ipython",
    "version": 3
   },
   "file_extension": ".py",
   "mimetype": "text/x-python",
   "name": "python",
   "nbconvert_exporter": "python",
   "pygments_lexer": "ipython3",
   "version": "3.8.12"
  },
  "orig_nbformat": 4
 },
 "nbformat": 4,
 "nbformat_minor": 2
}
