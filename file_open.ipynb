{
 "cells": [
  {
   "cell_type": "code",
   "execution_count": 2,
   "metadata": {},
   "outputs": [],
   "source": [
    "import pandas as pd\n",
    "import matplotlib.pyplot as plt\n",
    "import plotly.express as px\n",
    "%matplotlib inline\n"
   ]
  },
  {
   "cell_type": "code",
   "execution_count": 3,
   "metadata": {},
   "outputs": [
    {
     "data": {
      "text/html": [
       "<div>\n",
       "<style scoped>\n",
       "    .dataframe tbody tr th:only-of-type {\n",
       "        vertical-align: middle;\n",
       "    }\n",
       "\n",
       "    .dataframe tbody tr th {\n",
       "        vertical-align: top;\n",
       "    }\n",
       "\n",
       "    .dataframe thead th {\n",
       "        text-align: right;\n",
       "    }\n",
       "</style>\n",
       "<table border=\"1\" class=\"dataframe\">\n",
       "  <thead>\n",
       "    <tr style=\"text-align: right;\">\n",
       "      <th></th>\n",
       "      <th>hotel_names</th>\n",
       "      <th>hotel_ratings</th>\n",
       "      <th>hotel_price</th>\n",
       "      <th>hotel_neighbourhoods</th>\n",
       "      <th>hotel_reviews</th>\n",
       "      <th>hotel_type</th>\n",
       "    </tr>\n",
       "  </thead>\n",
       "  <tbody>\n",
       "    <tr>\n",
       "      <th>0</th>\n",
       "      <td>The Hoxton - Shoreditch</td>\n",
       "      <td>4.5</td>\n",
       "      <td>££</td>\n",
       "      <td>Liverpool Street / Broadgate</td>\n",
       "      <td>187.0</td>\n",
       "      <td>HotelsVenues &amp; Event Spaces</td>\n",
       "    </tr>\n",
       "    <tr>\n",
       "      <th>1</th>\n",
       "      <td>London Marriott Hotel Park Lane</td>\n",
       "      <td>4.5</td>\n",
       "      <td>£££</td>\n",
       "      <td>Mayfair</td>\n",
       "      <td>45.0</td>\n",
       "      <td>HotelsVenues &amp; Event Spaces</td>\n",
       "    </tr>\n",
       "    <tr>\n",
       "      <th>2</th>\n",
       "      <td>DoubleTree by Hilton Hotel London - Hyde Park</td>\n",
       "      <td>4.0</td>\n",
       "      <td>££</td>\n",
       "      <td>Notting Hill</td>\n",
       "      <td>35.0</td>\n",
       "      <td>Hotels</td>\n",
       "    </tr>\n",
       "    <tr>\n",
       "      <th>3</th>\n",
       "      <td>Savoy Hotel</td>\n",
       "      <td>4.5</td>\n",
       "      <td>££££</td>\n",
       "      <td>Strand</td>\n",
       "      <td>96.0</td>\n",
       "      <td>Hotels</td>\n",
       "    </tr>\n",
       "    <tr>\n",
       "      <th>4</th>\n",
       "      <td>The Z Hotel Piccadilly</td>\n",
       "      <td>4.5</td>\n",
       "      <td>££</td>\n",
       "      <td>Trafalgar Square</td>\n",
       "      <td>11.0</td>\n",
       "      <td>Hotels</td>\n",
       "    </tr>\n",
       "    <tr>\n",
       "      <th>...</th>\n",
       "      <td>...</td>\n",
       "      <td>...</td>\n",
       "      <td>...</td>\n",
       "      <td>...</td>\n",
       "      <td>...</td>\n",
       "      <td>...</td>\n",
       "    </tr>\n",
       "    <tr>\n",
       "      <th>235</th>\n",
       "      <td>Miller’s Hotel</td>\n",
       "      <td>5.0</td>\n",
       "      <td>£££</td>\n",
       "      <td>Bayswater</td>\n",
       "      <td>4.0</td>\n",
       "      <td>Hotels</td>\n",
       "    </tr>\n",
       "    <tr>\n",
       "      <th>236</th>\n",
       "      <td>Princess Hotel</td>\n",
       "      <td>5.0</td>\n",
       "      <td>££</td>\n",
       "      <td>Bloomsbury</td>\n",
       "      <td>3.0</td>\n",
       "      <td>HotelsBed &amp; Breakfast</td>\n",
       "    </tr>\n",
       "    <tr>\n",
       "      <th>237</th>\n",
       "      <td>Millennium Hotel London Knightsbridge</td>\n",
       "      <td>3.5</td>\n",
       "      <td>£££</td>\n",
       "      <td>Chelsea</td>\n",
       "      <td>7.0</td>\n",
       "      <td>Hotels</td>\n",
       "    </tr>\n",
       "    <tr>\n",
       "      <th>238</th>\n",
       "      <td>Portobello Gold</td>\n",
       "      <td>3.5</td>\n",
       "      <td>££</td>\n",
       "      <td>Notting Hill</td>\n",
       "      <td>34.0</td>\n",
       "      <td>PubsGuest HousesBritish</td>\n",
       "    </tr>\n",
       "    <tr>\n",
       "      <th>239</th>\n",
       "      <td>Middle Eight</td>\n",
       "      <td>NaN</td>\n",
       "      <td>NaN</td>\n",
       "      <td>Covent Garden</td>\n",
       "      <td>NaN</td>\n",
       "      <td>HotelsItalianBarsCovent Garden</td>\n",
       "    </tr>\n",
       "  </tbody>\n",
       "</table>\n",
       "<p>240 rows × 6 columns</p>\n",
       "</div>"
      ],
      "text/plain": [
       "                                       hotel_names  hotel_ratings hotel_price  \\\n",
       "0                          The Hoxton - Shoreditch            4.5          ££   \n",
       "1                  London Marriott Hotel Park Lane            4.5         £££   \n",
       "2    DoubleTree by Hilton Hotel London - Hyde Park            4.0          ££   \n",
       "3                                      Savoy Hotel            4.5        ££££   \n",
       "4                           The Z Hotel Piccadilly            4.5          ££   \n",
       "..                                             ...            ...         ...   \n",
       "235                                 Miller’s Hotel            5.0         £££   \n",
       "236                                 Princess Hotel            5.0          ££   \n",
       "237          Millennium Hotel London Knightsbridge            3.5         £££   \n",
       "238                                Portobello Gold            3.5          ££   \n",
       "239                                   Middle Eight            NaN         NaN   \n",
       "\n",
       "             hotel_neighbourhoods  hotel_reviews  \\\n",
       "0    Liverpool Street / Broadgate          187.0   \n",
       "1                         Mayfair           45.0   \n",
       "2                    Notting Hill           35.0   \n",
       "3                          Strand           96.0   \n",
       "4                Trafalgar Square           11.0   \n",
       "..                            ...            ...   \n",
       "235                     Bayswater            4.0   \n",
       "236                    Bloomsbury            3.0   \n",
       "237                       Chelsea            7.0   \n",
       "238                  Notting Hill           34.0   \n",
       "239                 Covent Garden            NaN   \n",
       "\n",
       "                         hotel_type  \n",
       "0       HotelsVenues & Event Spaces  \n",
       "1       HotelsVenues & Event Spaces  \n",
       "2                            Hotels  \n",
       "3                            Hotels  \n",
       "4                            Hotels  \n",
       "..                              ...  \n",
       "235                          Hotels  \n",
       "236           HotelsBed & Breakfast  \n",
       "237                          Hotels  \n",
       "238         PubsGuest HousesBritish  \n",
       "239  HotelsItalianBarsCovent Garden  \n",
       "\n",
       "[240 rows x 6 columns]"
      ]
     },
     "execution_count": 3,
     "metadata": {},
     "output_type": "execute_result"
    }
   ],
   "source": [
    "data2 = pd.read_csv('C:\\\\Users\\\\ritth\\\\code\\\\Strive\\\\King_Ritthuja\\\\hotels_data.csv')\n",
    "data2"
   ]
  },
  {
   "cell_type": "code",
   "execution_count": 5,
   "metadata": {},
   "outputs": [
    {
     "data": {
      "text/html": [
       "<div>\n",
       "<style scoped>\n",
       "    .dataframe tbody tr th:only-of-type {\n",
       "        vertical-align: middle;\n",
       "    }\n",
       "\n",
       "    .dataframe tbody tr th {\n",
       "        vertical-align: top;\n",
       "    }\n",
       "\n",
       "    .dataframe thead th {\n",
       "        text-align: right;\n",
       "    }\n",
       "</style>\n",
       "<table border=\"1\" class=\"dataframe\">\n",
       "  <thead>\n",
       "    <tr style=\"text-align: right;\">\n",
       "      <th></th>\n",
       "      <th>pub_names</th>\n",
       "      <th>pub_ratings</th>\n",
       "      <th>pub_price</th>\n",
       "      <th>pub_neighbourhoods</th>\n",
       "      <th>pub_reviews</th>\n",
       "      <th>pub_type</th>\n",
       "    </tr>\n",
       "  </thead>\n",
       "  <tbody>\n",
       "    <tr>\n",
       "      <th>0</th>\n",
       "      <td>The Harp</td>\n",
       "      <td>4.5</td>\n",
       "      <td>£</td>\n",
       "      <td>Strand</td>\n",
       "      <td>138</td>\n",
       "      <td>Pubs</td>\n",
       "    </tr>\n",
       "    <tr>\n",
       "      <th>1</th>\n",
       "      <td>The Queen’s Head</td>\n",
       "      <td>4.5</td>\n",
       "      <td>££</td>\n",
       "      <td>Soho</td>\n",
       "      <td>48</td>\n",
       "      <td>Pubs</td>\n",
       "    </tr>\n",
       "    <tr>\n",
       "      <th>2</th>\n",
       "      <td>The Victoria</td>\n",
       "      <td>4.5</td>\n",
       "      <td>££</td>\n",
       "      <td>Paddington</td>\n",
       "      <td>226</td>\n",
       "      <td>PubsBritish</td>\n",
       "    </tr>\n",
       "    <tr>\n",
       "      <th>3</th>\n",
       "      <td>The Queens Arms</td>\n",
       "      <td>4.5</td>\n",
       "      <td>££</td>\n",
       "      <td>Victoria</td>\n",
       "      <td>123</td>\n",
       "      <td>BritishPubsGastropubs</td>\n",
       "    </tr>\n",
       "    <tr>\n",
       "      <th>4</th>\n",
       "      <td>Mother Mash</td>\n",
       "      <td>4.0</td>\n",
       "      <td>££</td>\n",
       "      <td>Soho</td>\n",
       "      <td>471</td>\n",
       "      <td>British</td>\n",
       "    </tr>\n",
       "    <tr>\n",
       "      <th>...</th>\n",
       "      <td>...</td>\n",
       "      <td>...</td>\n",
       "      <td>...</td>\n",
       "      <td>...</td>\n",
       "      <td>...</td>\n",
       "      <td>...</td>\n",
       "    </tr>\n",
       "    <tr>\n",
       "      <th>235</th>\n",
       "      <td>The Yard Bar</td>\n",
       "      <td>3.5</td>\n",
       "      <td>££</td>\n",
       "      <td>Soho</td>\n",
       "      <td>34</td>\n",
       "      <td>Gay Bars</td>\n",
       "    </tr>\n",
       "    <tr>\n",
       "      <th>236</th>\n",
       "      <td>Sawyers Arms</td>\n",
       "      <td>3.5</td>\n",
       "      <td>££</td>\n",
       "      <td>Paddington</td>\n",
       "      <td>27</td>\n",
       "      <td>Pubs</td>\n",
       "    </tr>\n",
       "    <tr>\n",
       "      <th>237</th>\n",
       "      <td>The Jugged Hare</td>\n",
       "      <td>4.0</td>\n",
       "      <td>££</td>\n",
       "      <td>Westminster</td>\n",
       "      <td>29</td>\n",
       "      <td>Pubs</td>\n",
       "    </tr>\n",
       "    <tr>\n",
       "      <th>238</th>\n",
       "      <td>The Old Kings Head</td>\n",
       "      <td>4.5</td>\n",
       "      <td>££</td>\n",
       "      <td>Liverpool Street / Broadgate</td>\n",
       "      <td>2</td>\n",
       "      <td>Pubs</td>\n",
       "    </tr>\n",
       "    <tr>\n",
       "      <th>239</th>\n",
       "      <td>The Sands End</td>\n",
       "      <td>4.0</td>\n",
       "      <td>££</td>\n",
       "      <td>Fulham</td>\n",
       "      <td>16</td>\n",
       "      <td>Pubs</td>\n",
       "    </tr>\n",
       "  </tbody>\n",
       "</table>\n",
       "<p>240 rows × 6 columns</p>\n",
       "</div>"
      ],
      "text/plain": [
       "              pub_names  pub_ratings pub_price            pub_neighbourhoods  \\\n",
       "0              The Harp          4.5         £                        Strand   \n",
       "1      The Queen’s Head          4.5        ££                          Soho   \n",
       "2          The Victoria          4.5        ££                    Paddington   \n",
       "3       The Queens Arms          4.5        ££                      Victoria   \n",
       "4           Mother Mash          4.0        ££                          Soho   \n",
       "..                  ...          ...       ...                           ...   \n",
       "235        The Yard Bar          3.5        ££                          Soho   \n",
       "236        Sawyers Arms          3.5        ££                    Paddington   \n",
       "237     The Jugged Hare          4.0        ££                   Westminster   \n",
       "238  The Old Kings Head          4.5        ££  Liverpool Street / Broadgate   \n",
       "239       The Sands End          4.0        ££                        Fulham   \n",
       "\n",
       "     pub_reviews               pub_type  \n",
       "0            138                   Pubs  \n",
       "1             48                   Pubs  \n",
       "2            226            PubsBritish  \n",
       "3            123  BritishPubsGastropubs  \n",
       "4            471                British  \n",
       "..           ...                    ...  \n",
       "235           34               Gay Bars  \n",
       "236           27                   Pubs  \n",
       "237           29                   Pubs  \n",
       "238            2                   Pubs  \n",
       "239           16                   Pubs  \n",
       "\n",
       "[240 rows x 6 columns]"
      ]
     },
     "execution_count": 5,
     "metadata": {},
     "output_type": "execute_result"
    }
   ],
   "source": [
    "data3 = pd.read_csv('C:\\\\Users\\\\ritth\\\\code\\\\Strive\\\\King_Ritthuja\\\\pubs_data.csv')\n",
    "data3"
   ]
  },
  {
   "cell_type": "code",
   "execution_count": 6,
   "metadata": {},
   "outputs": [
    {
     "data": {
      "text/html": [
       "<div>\n",
       "<style scoped>\n",
       "    .dataframe tbody tr th:only-of-type {\n",
       "        vertical-align: middle;\n",
       "    }\n",
       "\n",
       "    .dataframe tbody tr th {\n",
       "        vertical-align: top;\n",
       "    }\n",
       "\n",
       "    .dataframe thead th {\n",
       "        text-align: right;\n",
       "    }\n",
       "</style>\n",
       "<table border=\"1\" class=\"dataframe\">\n",
       "  <thead>\n",
       "    <tr style=\"text-align: right;\">\n",
       "      <th></th>\n",
       "      <th>restaurant_names</th>\n",
       "      <th>restaurant_ratings</th>\n",
       "      <th>restaurant_price</th>\n",
       "      <th>restaurant_neighbourhoods</th>\n",
       "      <th>restaurant_reviews</th>\n",
       "      <th>restaurant_type</th>\n",
       "    </tr>\n",
       "  </thead>\n",
       "  <tbody>\n",
       "    <tr>\n",
       "      <th>0</th>\n",
       "      <td>Restaurant Gordon Ramsay</td>\n",
       "      <td>4.5</td>\n",
       "      <td>££££</td>\n",
       "      <td>Chelsea</td>\n",
       "      <td>215</td>\n",
       "      <td>FrenchBritish</td>\n",
       "    </tr>\n",
       "    <tr>\n",
       "      <th>1</th>\n",
       "      <td>The Mayfair Chippy</td>\n",
       "      <td>4.5</td>\n",
       "      <td>££</td>\n",
       "      <td>Mayfair</td>\n",
       "      <td>296</td>\n",
       "      <td>Fish &amp; Chips</td>\n",
       "    </tr>\n",
       "    <tr>\n",
       "      <th>2</th>\n",
       "      <td>Dishoom</td>\n",
       "      <td>4.5</td>\n",
       "      <td>££</td>\n",
       "      <td>Covent Garden</td>\n",
       "      <td>1894</td>\n",
       "      <td>Indian</td>\n",
       "    </tr>\n",
       "    <tr>\n",
       "      <th>3</th>\n",
       "      <td>The Fat Bear</td>\n",
       "      <td>4.5</td>\n",
       "      <td>££</td>\n",
       "      <td>Blackfriars</td>\n",
       "      <td>124</td>\n",
       "      <td>American (Traditional)Soul FoodCajun/Creole</td>\n",
       "    </tr>\n",
       "    <tr>\n",
       "      <th>4</th>\n",
       "      <td>Duck &amp; Waffle Local</td>\n",
       "      <td>4.5</td>\n",
       "      <td>££</td>\n",
       "      <td>Leicester Square</td>\n",
       "      <td>143</td>\n",
       "      <td>BarsWaffles</td>\n",
       "    </tr>\n",
       "    <tr>\n",
       "      <th>...</th>\n",
       "      <td>...</td>\n",
       "      <td>...</td>\n",
       "      <td>...</td>\n",
       "      <td>...</td>\n",
       "      <td>...</td>\n",
       "      <td>...</td>\n",
       "    </tr>\n",
       "    <tr>\n",
       "      <th>235</th>\n",
       "      <td>Casita Andina</td>\n",
       "      <td>4.5</td>\n",
       "      <td>££</td>\n",
       "      <td>Soho</td>\n",
       "      <td>34</td>\n",
       "      <td>Peruvian</td>\n",
       "    </tr>\n",
       "    <tr>\n",
       "      <th>236</th>\n",
       "      <td>Kerbisher &amp; Malt</td>\n",
       "      <td>4.5</td>\n",
       "      <td>££</td>\n",
       "      <td>West Kensington</td>\n",
       "      <td>91</td>\n",
       "      <td>Fish &amp; Chips</td>\n",
       "    </tr>\n",
       "    <tr>\n",
       "      <th>237</th>\n",
       "      <td>Mamak Don</td>\n",
       "      <td>4.5</td>\n",
       "      <td>NaN</td>\n",
       "      <td>Camden Town</td>\n",
       "      <td>5</td>\n",
       "      <td>MalaysianCamden Town</td>\n",
       "    </tr>\n",
       "    <tr>\n",
       "      <th>238</th>\n",
       "      <td>Annabel’s</td>\n",
       "      <td>4.5</td>\n",
       "      <td>££££</td>\n",
       "      <td>Mayfair</td>\n",
       "      <td>11</td>\n",
       "      <td>BarsBritish</td>\n",
       "    </tr>\n",
       "    <tr>\n",
       "      <th>239</th>\n",
       "      <td>The Oscar Wilde Bar</td>\n",
       "      <td>4.5</td>\n",
       "      <td>££££</td>\n",
       "      <td>Soho</td>\n",
       "      <td>13</td>\n",
       "      <td>Cocktail BarsBritishJazz &amp; Blues</td>\n",
       "    </tr>\n",
       "  </tbody>\n",
       "</table>\n",
       "<p>240 rows × 6 columns</p>\n",
       "</div>"
      ],
      "text/plain": [
       "             restaurant_names  restaurant_ratings restaurant_price  \\\n",
       "0    Restaurant Gordon Ramsay                 4.5             ££££   \n",
       "1          The Mayfair Chippy                 4.5               ££   \n",
       "2                     Dishoom                 4.5               ££   \n",
       "3                The Fat Bear                 4.5               ££   \n",
       "4         Duck & Waffle Local                 4.5               ££   \n",
       "..                        ...                 ...              ...   \n",
       "235             Casita Andina                 4.5               ££   \n",
       "236          Kerbisher & Malt                 4.5               ££   \n",
       "237                 Mamak Don                 4.5              NaN   \n",
       "238                 Annabel’s                 4.5             ££££   \n",
       "239       The Oscar Wilde Bar                 4.5             ££££   \n",
       "\n",
       "    restaurant_neighbourhoods  restaurant_reviews  \\\n",
       "0                     Chelsea                 215   \n",
       "1                     Mayfair                 296   \n",
       "2               Covent Garden                1894   \n",
       "3                 Blackfriars                 124   \n",
       "4            Leicester Square                 143   \n",
       "..                        ...                 ...   \n",
       "235                      Soho                  34   \n",
       "236           West Kensington                  91   \n",
       "237               Camden Town                   5   \n",
       "238                   Mayfair                  11   \n",
       "239                      Soho                  13   \n",
       "\n",
       "                                 restaurant_type  \n",
       "0                                  FrenchBritish  \n",
       "1                                   Fish & Chips  \n",
       "2                                         Indian  \n",
       "3    American (Traditional)Soul FoodCajun/Creole  \n",
       "4                                    BarsWaffles  \n",
       "..                                           ...  \n",
       "235                                     Peruvian  \n",
       "236                                 Fish & Chips  \n",
       "237                         MalaysianCamden Town  \n",
       "238                                  BarsBritish  \n",
       "239             Cocktail BarsBritishJazz & Blues  \n",
       "\n",
       "[240 rows x 6 columns]"
      ]
     },
     "execution_count": 6,
     "metadata": {},
     "output_type": "execute_result"
    }
   ],
   "source": [
    "data1 = pd.read_csv('C:\\\\Users\\\\ritth\\\\code\\\\Strive\\\\King_Ritthuja\\\\restaurant_data.csv')\n",
    "data1"
   ]
  },
  {
   "cell_type": "markdown",
   "metadata": {},
   "source": [
    "### Sum"
   ]
  },
  {
   "cell_type": "code",
   "execution_count": 8,
   "metadata": {},
   "outputs": [
    {
     "data": {
      "text/plain": [
       "26340"
      ]
     },
     "execution_count": 8,
     "metadata": {},
     "output_type": "execute_result"
    }
   ],
   "source": [
    "res_sum = data1['restaurant_reviews'].sum()\n",
    "res_sum"
   ]
  },
  {
   "cell_type": "code",
   "execution_count": 9,
   "metadata": {},
   "outputs": [
    {
     "data": {
      "text/plain": [
       "7174.0"
      ]
     },
     "execution_count": 9,
     "metadata": {},
     "output_type": "execute_result"
    }
   ],
   "source": [
    "hot_sum = data2['hotel_reviews'].sum()\n",
    "hot_sum"
   ]
  },
  {
   "cell_type": "code",
   "execution_count": 10,
   "metadata": {},
   "outputs": [
    {
     "data": {
      "text/plain": [
       "14970"
      ]
     },
     "execution_count": 10,
     "metadata": {},
     "output_type": "execute_result"
    }
   ],
   "source": [
    "pub_sum = data3['pub_reviews'].sum()\n",
    "pub_sum"
   ]
  },
  {
   "cell_type": "code",
   "execution_count": 11,
   "metadata": {},
   "outputs": [
    {
     "data": {
      "text/plain": [
       "1038.0"
      ]
     },
     "execution_count": 11,
     "metadata": {},
     "output_type": "execute_result"
    }
   ],
   "source": [
    "res_sum1 = data1['restaurant_ratings'].sum()\n",
    "res_sum1"
   ]
  },
  {
   "cell_type": "code",
   "execution_count": 12,
   "metadata": {},
   "outputs": [
    {
     "data": {
      "text/plain": [
       "923.5"
      ]
     },
     "execution_count": 12,
     "metadata": {},
     "output_type": "execute_result"
    }
   ],
   "source": [
    "hot_sum1 = data2['hotel_ratings'].sum()\n",
    "hot_sum1"
   ]
  },
  {
   "cell_type": "code",
   "execution_count": 13,
   "metadata": {},
   "outputs": [
    {
     "data": {
      "text/plain": [
       "968.0"
      ]
     },
     "execution_count": 13,
     "metadata": {},
     "output_type": "execute_result"
    }
   ],
   "source": [
    "pub_sum1 = data3['pub_ratings'].sum()\n",
    "pub_sum1"
   ]
  },
  {
   "cell_type": "markdown",
   "metadata": {},
   "source": [
    "### Mean"
   ]
  },
  {
   "cell_type": "code",
   "execution_count": 14,
   "metadata": {},
   "outputs": [
    {
     "data": {
      "text/plain": [
       "4.325"
      ]
     },
     "execution_count": 14,
     "metadata": {},
     "output_type": "execute_result"
    }
   ],
   "source": [
    "res1 = data1['restaurant_ratings'].mean()\n",
    "res1"
   ]
  },
  {
   "cell_type": "code",
   "execution_count": 15,
   "metadata": {},
   "outputs": [
    {
     "data": {
      "text/plain": [
       "3.963519313304721"
      ]
     },
     "execution_count": 15,
     "metadata": {},
     "output_type": "execute_result"
    }
   ],
   "source": [
    "hot1 = data2['hotel_ratings'].mean()\n",
    "hot1"
   ]
  },
  {
   "cell_type": "code",
   "execution_count": 16,
   "metadata": {},
   "outputs": [
    {
     "data": {
      "text/plain": [
       "4.033333333333333"
      ]
     },
     "execution_count": 16,
     "metadata": {},
     "output_type": "execute_result"
    }
   ],
   "source": [
    "pub1 = data3['pub_ratings'].mean()\n",
    "pub1"
   ]
  },
  {
   "cell_type": "code",
   "execution_count": 17,
   "metadata": {},
   "outputs": [
    {
     "data": {
      "text/plain": [
       "109.75"
      ]
     },
     "execution_count": 17,
     "metadata": {},
     "output_type": "execute_result"
    }
   ],
   "source": [
    "res2 = data1['restaurant_reviews'].mean()\n",
    "res2"
   ]
  },
  {
   "cell_type": "code",
   "execution_count": 18,
   "metadata": {},
   "outputs": [
    {
     "data": {
      "text/plain": [
       "30.78969957081545"
      ]
     },
     "execution_count": 18,
     "metadata": {},
     "output_type": "execute_result"
    }
   ],
   "source": [
    "hot2 = data2['hotel_reviews'].mean()\n",
    "hot2"
   ]
  },
  {
   "cell_type": "code",
   "execution_count": 19,
   "metadata": {},
   "outputs": [
    {
     "data": {
      "text/plain": [
       "62.375"
      ]
     },
     "execution_count": 19,
     "metadata": {},
     "output_type": "execute_result"
    }
   ],
   "source": [
    "pub2 = data3['pub_reviews'].mean()\n",
    "pub2"
   ]
  },
  {
   "cell_type": "markdown",
   "metadata": {},
   "source": [
    "### Box plot"
   ]
  },
  {
   "cell_type": "code",
   "execution_count": 42,
   "metadata": {},
   "outputs": [
    {
     "data": {
      "image/png": "[encoded data removed]",
      "text/plain": [
       "<Figure size 720x504 with 1 Axes>"
      ]
     },
     "metadata": {
      "needs_background": "light"
     },
     "output_type": "display_data"
    }
   ],
   "source": [
    "fig = plt.figure(figsize =(10, 7))\n",
    "ax = fig.add_axes([0, 0, 1, 1])\n",
    "box = [data1['restaurant_ratings'], data2['hotel_ratings']]\n",
    "bp= ax.boxplot(box)\n",
    "plt.show()\n"
   ]
  },
  {
   "cell_type": "code",
   "execution_count": 82,
   "metadata": {},
   "outputs": [],
   "source": [
    "fig1 = px.box(data2, x=\"hotel_ratings\", y='hotel_reviews')"
   ]
  },
  {
   "cell_type": "code",
   "execution_count": 83,
   "metadata": {},
   "outputs": [],
   "source": [
    "fig2 = px.box(data3, x=\"pub_ratings\", y='pub_reviews')"
   ]
  },
  {
   "cell_type": "markdown",
   "metadata": {},
   "source": [
    "### Price Mean"
   ]
  },
  {
   "cell_type": "code",
   "execution_count": 20,
   "metadata": {},
   "outputs": [],
   "source": [
    "mapper = {'£':1, '££':2, '£££':3, '££££':4}\n",
    "data1['restaurant_price'] = data1['restaurant_price'].map(mapper)"
   ]
  },
  {
   "cell_type": "code",
   "execution_count": 21,
   "metadata": {},
   "outputs": [
    {
     "data": {
      "text/plain": [
       "2.242424242424242"
      ]
     },
     "execution_count": 21,
     "metadata": {},
     "output_type": "execute_result"
    }
   ],
   "source": [
    "res_price_mean = data1['restaurant_price'].mean()\n",
    "res_price_mean"
   ]
  },
  {
   "cell_type": "code",
   "execution_count": 22,
   "metadata": {},
   "outputs": [],
   "source": [
    "mapper = {'£':1, '££':2, '£££':3, '££££':4}\n",
    "data2['hotel_price'] = data2['hotel_price'].map(mapper)"
   ]
  },
  {
   "cell_type": "code",
   "execution_count": 23,
   "metadata": {},
   "outputs": [
    {
     "data": {
      "text/plain": [
       "2.62"
      ]
     },
     "execution_count": 23,
     "metadata": {},
     "output_type": "execute_result"
    }
   ],
   "source": [
    "hotel_price_mean= data2['hotel_price'].mean()\n",
    "hotel_price_mean"
   ]
  },
  {
   "cell_type": "code",
   "execution_count": 24,
   "metadata": {},
   "outputs": [],
   "source": [
    "mapper = {'£':1, '££':2, '£££':3, '££££':4}\n",
    "data3['pub_price'] = data3['pub_price'].map(mapper)"
   ]
  },
  {
   "cell_type": "code",
   "execution_count": 25,
   "metadata": {},
   "outputs": [
    {
     "data": {
      "text/plain": [
       "2.017094017094017"
      ]
     },
     "execution_count": 25,
     "metadata": {},
     "output_type": "execute_result"
    }
   ],
   "source": [
    "pub_price_mean= data3['pub_price'].mean()\n",
    "pub_price_mean"
   ]
  },
  {
   "cell_type": "markdown",
   "metadata": {},
   "source": [
    "#### Multiply price by reviews"
   ]
  },
  {
   "cell_type": "code",
   "execution_count": 26,
   "metadata": {},
   "outputs": [
    {
     "name": "stdout",
     "output_type": "stream",
     "text": [
      "59065.45454545454\n",
      "246.1060606060606\n"
     ]
    }
   ],
   "source": [
    "res_profit = res_price_mean * res_sum\n",
    "print(res_profit)\n",
    "\n",
    "res_main_profit = res_price_mean * res2\n",
    "print(res_main_profit)"
   ]
  },
  {
   "cell_type": "code",
   "execution_count": 27,
   "metadata": {},
   "outputs": [
    {
     "name": "stdout",
     "output_type": "stream",
     "text": [
      "18795.88\n",
      "80.66901287553648\n"
     ]
    }
   ],
   "source": [
    "hotel_profit = hotel_price_mean * hot_sum\n",
    "print(hotel_profit)\n",
    "\n",
    "hotel_main_profit = hotel_price_mean * hot2\n",
    "print(hotel_main_profit)"
   ]
  },
  {
   "cell_type": "code",
   "execution_count": 28,
   "metadata": {},
   "outputs": [
    {
     "name": "stdout",
     "output_type": "stream",
     "text": [
      "30195.897435897434\n",
      "125.81623931623932\n"
     ]
    }
   ],
   "source": [
    "pub_profit = pub_price_mean * pub_sum\n",
    "print(pub_profit)\n",
    "\n",
    "pub_main_profit = pub_price_mean * pub2\n",
    "print(pub_main_profit)"
   ]
  },
  {
   "cell_type": "markdown",
   "metadata": {},
   "source": [
    "## Profit values in reviews"
   ]
  },
  {
   "cell_type": "markdown",
   "metadata": {},
   "source": [
    "### SUM VALUES"
   ]
  },
  {
   "cell_type": "code",
   "execution_count": 29,
   "metadata": {},
   "outputs": [
    {
     "data": {
      "text/plain": [
       "Text(0.5, 1.0, 'Profit of Bussiness')"
      ]
     },
     "execution_count": 29,
     "metadata": {},
     "output_type": "execute_result"
    },
    {
     "data": {
      "image/png": "[encoded data removed]",
      "text/plain": [
       "<Figure size 432x288 with 1 Axes>"
      ]
     },
     "metadata": {
      "needs_background": "light"
     },
     "output_type": "display_data"
    }
   ],
   "source": [
    "profit= [res_profit, hotel_profit, pub_profit]\n",
    "plt.bar(['restaurants', 'hotels', 'pubs'], profit)\n",
    "plt.title('Profit of Bussiness')"
   ]
  },
  {
   "cell_type": "code",
   "execution_count": 30,
   "metadata": {},
   "outputs": [
    {
     "data": {
      "image/png": "[encoded data removed]",
      "text/plain": [
       "<Figure size 432x288 with 1 Axes>"
      ]
     },
     "metadata": {},
     "output_type": "display_data"
    }
   ],
   "source": [
    "labels = 'Restaurants', 'Hotels', 'Pubs'\n",
    "profit= [res_profit, hotel_profit, pub_profit]\n",
    "explode = (0.1, 0, 0)  \n",
    "\n",
    "fig1, ax1 = plt.subplots()\n",
    "ax1.pie(profit, explode=explode, labels=labels, autopct='%1.1f%%',\n",
    "        shadow=True, startangle=90)\n",
    "ax1.axis('equal')  # Equal aspect ratio ensures that pie is drawn as a circle.\n",
    "\n",
    "plt.show()\n"
   ]
  },
  {
   "cell_type": "markdown",
   "metadata": {},
   "source": [
    "### MEAN VALUES"
   ]
  },
  {
   "cell_type": "code",
   "execution_count": 31,
   "metadata": {},
   "outputs": [
    {
     "data": {
      "text/plain": [
       "Text(0.5, 1.0, 'Main Profit of Bussiness')"
      ]
     },
     "execution_count": 31,
     "metadata": {},
     "output_type": "execute_result"
    },
    {
     "data": {
      "image/png": "[encoded data removed]",
      "text/plain": [
       "<Figure size 432x288 with 1 Axes>"
      ]
     },
     "metadata": {
      "needs_background": "light"
     },
     "output_type": "display_data"
    }
   ],
   "source": [
    "main_profit= [res_main_profit, hotel_main_profit, pub_main_profit]\n",
    "plt.bar(['restaurants', 'hotels', 'pubs'], main_profit)\n",
    "plt.title('Main Profit of Bussiness')"
   ]
  },
  {
   "cell_type": "code",
   "execution_count": 32,
   "metadata": {},
   "outputs": [
    {
     "data": {
      "image/png": "[encoded data removed]",
      "text/plain": [
       "<Figure size 432x288 with 1 Axes>"
      ]
     },
     "metadata": {},
     "output_type": "display_data"
    }
   ],
   "source": [
    "labels = 'Restaurants', 'Hotels', 'Pubs'\n",
    "main_profit= [res_main_profit, hotel_main_profit, pub_main_profit]\n",
    "explode = (0.1, 0, 0)  \n",
    "\n",
    "fig1, ax1 = plt.subplots()\n",
    "ax1.pie(main_profit, explode=explode, labels=labels, autopct='%1.1f%%',\n",
    "        shadow=True, startangle=90)\n",
    "ax1.axis('equal')  # Equal aspect ratio ensures that pie is drawn as a circle.\n",
    "\n",
    "plt.show()"
   ]
  },
  {
   "cell_type": "code",
   "execution_count": null,
   "metadata": {},
   "outputs": [],
   "source": []
  },
  {
   "cell_type": "markdown",
   "metadata": {},
   "source": [
    "## Average ratings"
   ]
  },
  {
   "cell_type": "code",
   "execution_count": 46,
   "metadata": {},
   "outputs": [
    {
     "data": {
      "text/plain": [
       "Text(0.5, 1.0, 'Average Ratings')"
      ]
     },
     "execution_count": 46,
     "metadata": {},
     "output_type": "execute_result"
    },
    {
     "data": {
      "image/png": "[encoded data removed]",
      "text/plain": [
       "<Figure size 432x288 with 1 Axes>"
      ]
     },
     "metadata": {
      "needs_background": "light"
     },
     "output_type": "display_data"
    }
   ],
   "source": [
    "ratings = [res1, hot1, pub1]\n",
    "plt.bar(['restaurant', 'hotel', 'pub'], ratings)\n",
    "plt.title('Average Ratings')"
   ]
  },
  {
   "cell_type": "code",
   "execution_count": 55,
   "metadata": {},
   "outputs": [
    {
     "data": {
      "image/png": "[encoded data removed]",
      "text/plain": [
       "<Figure size 432x288 with 1 Axes>"
      ]
     },
     "metadata": {},
     "output_type": "display_data"
    }
   ],
   "source": [
    "labels = 'Restaurants', 'Hotels', 'Pubs'\n",
    "ratings = [res1, hot1, pub1]\n",
    "explode = (0.1, 0, 0)  \n",
    "\n",
    "fig1, ax1 = plt.subplots()\n",
    "ax1.pie(ratings, explode=explode, labels=labels, autopct='%1.1f%%',\n",
    "        shadow=True, startangle=90)\n",
    "ax1.axis('equal')  # Equal aspect ratio ensures that pie is drawn as a circle.\n",
    "\n",
    "plt.show()\n"
   ]
  },
  {
   "cell_type": "markdown",
   "metadata": {},
   "source": [
    "## Average reviews"
   ]
  },
  {
   "cell_type": "code",
   "execution_count": 60,
   "metadata": {},
   "outputs": [
    {
     "data": {
      "text/plain": [
       "Text(0.5, 1.0, 'Average Reviews')"
      ]
     },
     "execution_count": 60,
     "metadata": {},
     "output_type": "execute_result"
    },
    {
     "data": {
      "image/png": "[encoded data removed]",
      "text/plain": [
       "<Figure size 432x288 with 1 Axes>"
      ]
     },
     "metadata": {
      "needs_background": "light"
     },
     "output_type": "display_data"
    }
   ],
   "source": [
    "reviews = [res2, hot2, pub2]\n",
    "plt.bar(['restaurant', 'hotel', 'pub'], reviews)\n",
    "plt.title('Average Reviews')"
   ]
  },
  {
   "cell_type": "code",
   "execution_count": 56,
   "metadata": {},
   "outputs": [
    {
     "data": {
      "image/png": "[encoded data removed]",
      "text/plain": [
       "<Figure size 432x288 with 1 Axes>"
      ]
     },
     "metadata": {},
     "output_type": "display_data"
    }
   ],
   "source": [
    "labels = 'Restaurants', 'Hotels', 'Pubs'\n",
    "reviews = [res2, hot2, pub2]\n",
    "explode = (0.1, 0, 0)  \n",
    "\n",
    "fig1, ax1 = plt.subplots()\n",
    "ax1.pie(reviews, explode=explode, labels=labels, autopct='%1.1f%%',\n",
    "        shadow=True, startangle=90)\n",
    "ax1.axis('equal')  # Equal aspect ratio ensures that pie is drawn as a circle.\n",
    "\n",
    "plt.show()"
   ]
  },
  {
   "cell_type": "markdown",
   "metadata": {},
   "source": [
    "## Mostly occupied area"
   ]
  },
  {
   "cell_type": "code",
   "execution_count": 67,
   "metadata": {},
   "outputs": [
    {
     "data": {
      "text/plain": [
       "Soho             35\n",
       "Mayfair          14\n",
       "Covent Garden    13\n",
       "Fitzrovia        12\n",
       "London Bridge     8\n",
       "Bloomsbury        8\n",
       "Euston            7\n",
       "Notting Hill      6\n",
       "Borough           6\n",
       "Chelsea           6\n",
       "Name: restaurant_neighbourhoods, dtype: int64"
      ]
     },
     "execution_count": 67,
     "metadata": {},
     "output_type": "execute_result"
    }
   ],
   "source": [
    "location = data1['restaurant_neighbourhoods'].value_counts()\n",
    "loc1 = location.nlargest(10)\n",
    "loc1"
   ]
  },
  {
   "cell_type": "code",
   "execution_count": 78,
   "metadata": {},
   "outputs": [
    {
     "data": {
      "text/plain": [
       "Text(0.5, 1.0, 'Mostly occupied area')"
      ]
     },
     "execution_count": 78,
     "metadata": {},
     "output_type": "execute_result"
    },
    {
     "data": {
      "image/png": "[encoded data removed]",
      "text/plain": [
       "<Figure size 432x288 with 1 Axes>"
      ]
     },
     "metadata": {
      "needs_background": "light"
     },
     "output_type": "display_data"
    }
   ],
   "source": [
    "name = ['Soho', 'Mayfair', 'Covent Garden', 'Fitzrovia', 'London Bridge', 'Bloomsbury', 'Euston', 'Chelsea', 'Notting Hill', 'Borough']\n",
    "plt.barh(name, loc1)\n",
    "plt.title('Mostly occupied area')"
   ]
  },
  {
   "cell_type": "markdown",
   "metadata": {},
   "source": [
    "## Most ratings"
   ]
  },
  {
   "cell_type": "code",
   "execution_count": 86,
   "metadata": {},
   "outputs": [
    {
     "ename": "TypeError",
     "evalue": "sort_values() got an unexpected keyword argument 'by'",
     "output_type": "error",
     "traceback": [
      "\u001b[1;31m---------------------------------------------------------------------------\u001b[0m",
      "\u001b[1;31mTypeError\u001b[0m                                 Traceback (most recent call last)",
      "\u001b[1;32mc:\\Users\\ritth\\code\\Strive\\-Build_week\\file_open.ipynb Cell 52'\u001b[0m in \u001b[0;36m<cell line: 3>\u001b[1;34m()\u001b[0m\n\u001b[0;32m      <a href='vscode-notebook-cell:/c%3A/Users/ritth/code/Strive/-Build_week/file_open.ipynb#ch0000073?line=0'>1</a>\u001b[0m ratings \u001b[39m=\u001b[39m data1[\u001b[39m'\u001b[39m\u001b[39mrestaurant_ratings\u001b[39m\u001b[39m'\u001b[39m]\u001b[39m.\u001b[39mvalue_counts()\n\u001b[1;32m----> <a href='vscode-notebook-cell:/c%3A/Users/ritth/code/Strive/-Build_week/file_open.ipynb#ch0000073?line=2'>3</a>\u001b[0m ratings\u001b[39m.\u001b[39;49msort_values(by \u001b[39m=\u001b[39;49m [ratings], ascending\u001b[39m=\u001b[39;49m[\u001b[39mFalse\u001b[39;49;00m])\n",
      "\u001b[1;31mTypeError\u001b[0m: sort_values() got an unexpected keyword argument 'by'"
     ]
    }
   ],
   "source": [
    "ratings = data1['restaurant_ratings'].value_counts()\n",
    "\n",
    "ratings.sort_values(by = [ratings], ascending=[False])"
   ]
  },
  {
   "cell_type": "code",
   "execution_count": 84,
   "metadata": {},
   "outputs": [
    {
     "data": {
      "image/png": "[encoded data removed]",
      "text/plain": [
       "<Figure size 432x288 with 1 Axes>"
      ]
     },
     "metadata": {},
     "output_type": "display_data"
    }
   ],
   "source": [
    "labels = '5.0', '4.5', '4.0', '3.5'\n",
    "explode = (0, 0.1, 0, 0)  \n",
    "\n",
    "fig1, ax1 = plt.subplots()\n",
    "ax1.pie(ratings, explode=explode, labels=labels, autopct='%1.1f%%',\n",
    "        shadow=True, startangle=90)\n",
    "ax1.axis('equal')  # Equal aspect ratio ensures that pie is drawn as a circle.\n",
    "\n",
    "plt.show()"
   ]
  },
  {
   "cell_type": "code",
   "execution_count": 87,
   "metadata": {},
   "outputs": [
    {
     "data": {
      "text/plain": [
       "Text(0.5, 1.0, 'Most ratings')"
      ]
     },
     "execution_count": 87,
     "metadata": {},
     "output_type": "execute_result"
    },
    {
     "data": {
      "image/png": "[encoded data removed]",
      "text/plain": [
       "<Figure size 432x288 with 1 Axes>"
      ]
     },
     "metadata": {
      "needs_background": "light"
     },
     "output_type": "display_data"
    }
   ],
   "source": [
    "name = ['4.5', '4.0', '5.0', '3.5']\n",
    "plt.bar(name, ratings)\n",
    "plt.title('Most ratings')"
   ]
  },
  {
   "cell_type": "code",
   "execution_count": 52,
   "metadata": {},
   "outputs": [
    {
     "data": {
      "text/html": [
       "<div>\n",
       "<style scoped>\n",
       "    .dataframe tbody tr th:only-of-type {\n",
       "        vertical-align: middle;\n",
       "    }\n",
       "\n",
       "    .dataframe tbody tr th {\n",
       "        vertical-align: top;\n",
       "    }\n",
       "\n",
       "    .dataframe thead th {\n",
       "        text-align: right;\n",
       "    }\n",
       "</style>\n",
       "<table border=\"1\" class=\"dataframe\">\n",
       "  <thead>\n",
       "    <tr style=\"text-align: right;\">\n",
       "      <th></th>\n",
       "      <th>restaurant_ratings</th>\n",
       "      <th>restaurant_reviews</th>\n",
       "    </tr>\n",
       "    <tr>\n",
       "      <th>restaurant_price</th>\n",
       "      <th></th>\n",
       "      <th></th>\n",
       "    </tr>\n",
       "  </thead>\n",
       "  <tbody>\n",
       "    <tr>\n",
       "      <th>1.0</th>\n",
       "      <td>4.304348</td>\n",
       "      <td>88.130435</td>\n",
       "    </tr>\n",
       "    <tr>\n",
       "      <th>2.0</th>\n",
       "      <td>4.284483</td>\n",
       "      <td>134.017241</td>\n",
       "    </tr>\n",
       "    <tr>\n",
       "      <th>3.0</th>\n",
       "      <td>4.234043</td>\n",
       "      <td>152.978723</td>\n",
       "    </tr>\n",
       "    <tr>\n",
       "      <th>4.0</th>\n",
       "      <td>4.416667</td>\n",
       "      <td>99.833333</td>\n",
       "    </tr>\n",
       "  </tbody>\n",
       "</table>\n",
       "</div>"
      ],
      "text/plain": [
       "                  restaurant_ratings  restaurant_reviews\n",
       "restaurant_price                                        \n",
       "1.0                         4.304348           88.130435\n",
       "2.0                         4.284483          134.017241\n",
       "3.0                         4.234043          152.978723\n",
       "4.0                         4.416667           99.833333"
      ]
     },
     "execution_count": 52,
     "metadata": {},
     "output_type": "execute_result"
    }
   ],
   "source": [
    "data1.groupby('restaurant_price').mean()"
   ]
  },
  {
   "cell_type": "code",
   "execution_count": 58,
   "metadata": {},
   "outputs": [
    {
     "data": {
      "text/html": [
       "<div>\n",
       "<style scoped>\n",
       "    .dataframe tbody tr th:only-of-type {\n",
       "        vertical-align: middle;\n",
       "    }\n",
       "\n",
       "    .dataframe tbody tr th {\n",
       "        vertical-align: top;\n",
       "    }\n",
       "\n",
       "    .dataframe thead th {\n",
       "        text-align: right;\n",
       "    }\n",
       "</style>\n",
       "<table border=\"1\" class=\"dataframe\">\n",
       "  <thead>\n",
       "    <tr style=\"text-align: right;\">\n",
       "      <th></th>\n",
       "      <th>restaurant_names</th>\n",
       "      <th>restaurant_ratings</th>\n",
       "      <th>restaurant_price</th>\n",
       "      <th>restaurant_neighbourhoods</th>\n",
       "      <th>restaurant_reviews</th>\n",
       "      <th>restaurant_type</th>\n",
       "    </tr>\n",
       "  </thead>\n",
       "  <tbody>\n",
       "    <tr>\n",
       "      <th>19</th>\n",
       "      <td>The Golden Chippy</td>\n",
       "      <td>5.0</td>\n",
       "      <td>2.0</td>\n",
       "      <td>Deptford</td>\n",
       "      <td>114</td>\n",
       "      <td>Fish &amp; Chips</td>\n",
       "    </tr>\n",
       "    <tr>\n",
       "      <th>136</th>\n",
       "      <td>Soho Joe</td>\n",
       "      <td>5.0</td>\n",
       "      <td>NaN</td>\n",
       "      <td>Soho</td>\n",
       "      <td>27</td>\n",
       "      <td>Breakfast &amp; BrunchPizzaSoho</td>\n",
       "    </tr>\n",
       "    <tr>\n",
       "      <th>95</th>\n",
       "      <td>Sushi Tetsu</td>\n",
       "      <td>5.0</td>\n",
       "      <td>4.0</td>\n",
       "      <td>Clerkenwell</td>\n",
       "      <td>23</td>\n",
       "      <td>Sushi Bars</td>\n",
       "    </tr>\n",
       "    <tr>\n",
       "      <th>146</th>\n",
       "      <td>Yasmeen Restaurant</td>\n",
       "      <td>5.0</td>\n",
       "      <td>2.0</td>\n",
       "      <td>St John's Wood</td>\n",
       "      <td>16</td>\n",
       "      <td>LebaneseMediterranean</td>\n",
       "    </tr>\n",
       "    <tr>\n",
       "      <th>168</th>\n",
       "      <td>Scully</td>\n",
       "      <td>5.0</td>\n",
       "      <td>NaN</td>\n",
       "      <td>Leicester Square</td>\n",
       "      <td>13</td>\n",
       "      <td>BritishLeicester Square</td>\n",
       "    </tr>\n",
       "    <tr>\n",
       "      <th>...</th>\n",
       "      <td>...</td>\n",
       "      <td>...</td>\n",
       "      <td>...</td>\n",
       "      <td>...</td>\n",
       "      <td>...</td>\n",
       "      <td>...</td>\n",
       "    </tr>\n",
       "    <tr>\n",
       "      <th>200</th>\n",
       "      <td>Crispin</td>\n",
       "      <td>4.0</td>\n",
       "      <td>NaN</td>\n",
       "      <td>NaN</td>\n",
       "      <td>5</td>\n",
       "      <td>Breakfast &amp; Brunch</td>\n",
       "    </tr>\n",
       "    <tr>\n",
       "      <th>203</th>\n",
       "      <td>Korean Bbq and Vegan</td>\n",
       "      <td>4.0</td>\n",
       "      <td>NaN</td>\n",
       "      <td>Barbican</td>\n",
       "      <td>3</td>\n",
       "      <td>HalalKoreanVeganBarbican</td>\n",
       "    </tr>\n",
       "    <tr>\n",
       "      <th>124</th>\n",
       "      <td>Costa Azul</td>\n",
       "      <td>4.0</td>\n",
       "      <td>2.0</td>\n",
       "      <td>Newington</td>\n",
       "      <td>2</td>\n",
       "      <td>Latin American</td>\n",
       "    </tr>\n",
       "    <tr>\n",
       "      <th>108</th>\n",
       "      <td>The Narrow by Gordon Ramsay</td>\n",
       "      <td>3.5</td>\n",
       "      <td>2.0</td>\n",
       "      <td>Limehouse</td>\n",
       "      <td>106</td>\n",
       "      <td>BritishModern European</td>\n",
       "    </tr>\n",
       "    <tr>\n",
       "      <th>145</th>\n",
       "      <td>Sexy Fish</td>\n",
       "      <td>3.5</td>\n",
       "      <td>4.0</td>\n",
       "      <td>Mayfair</td>\n",
       "      <td>73</td>\n",
       "      <td>SeafoodJapaneseAsian Fusion</td>\n",
       "    </tr>\n",
       "  </tbody>\n",
       "</table>\n",
       "<p>240 rows × 6 columns</p>\n",
       "</div>"
      ],
      "text/plain": [
       "                restaurant_names  restaurant_ratings  restaurant_price  \\\n",
       "19             The Golden Chippy                 5.0               2.0   \n",
       "136                     Soho Joe                 5.0               NaN   \n",
       "95                   Sushi Tetsu                 5.0               4.0   \n",
       "146           Yasmeen Restaurant                 5.0               2.0   \n",
       "168                       Scully                 5.0               NaN   \n",
       "..                           ...                 ...               ...   \n",
       "200                      Crispin                 4.0               NaN   \n",
       "203         Korean Bbq and Vegan                 4.0               NaN   \n",
       "124                   Costa Azul                 4.0               2.0   \n",
       "108  The Narrow by Gordon Ramsay                 3.5               2.0   \n",
       "145                    Sexy Fish                 3.5               4.0   \n",
       "\n",
       "    restaurant_neighbourhoods  restaurant_reviews              restaurant_type  \n",
       "19                   Deptford                 114                 Fish & Chips  \n",
       "136                      Soho                  27  Breakfast & BrunchPizzaSoho  \n",
       "95                Clerkenwell                  23                   Sushi Bars  \n",
       "146            St John's Wood                  16        LebaneseMediterranean  \n",
       "168          Leicester Square                  13      BritishLeicester Square  \n",
       "..                        ...                 ...                          ...  \n",
       "200                       NaN                   5           Breakfast & Brunch  \n",
       "203                  Barbican                   3     HalalKoreanVeganBarbican  \n",
       "124                 Newington                   2               Latin American  \n",
       "108                 Limehouse                 106       BritishModern European  \n",
       "145                   Mayfair                  73  SeafoodJapaneseAsian Fusion  \n",
       "\n",
       "[240 rows x 6 columns]"
      ]
     },
     "execution_count": 58,
     "metadata": {},
     "output_type": "execute_result"
    }
   ],
   "source": [
    "data1.sort_values(by = ['restaurant_ratings', 'restaurant_reviews'], ascending=[False, False])"
   ]
  },
  {
   "cell_type": "code",
   "execution_count": 74,
   "metadata": {},
   "outputs": [
    {
     "data": {
      "text/html": [
       "<div>\n",
       "<style scoped>\n",
       "    .dataframe tbody tr th:only-of-type {\n",
       "        vertical-align: middle;\n",
       "    }\n",
       "\n",
       "    .dataframe tbody tr th {\n",
       "        vertical-align: top;\n",
       "    }\n",
       "\n",
       "    .dataframe thead th {\n",
       "        text-align: right;\n",
       "    }\n",
       "</style>\n",
       "<table border=\"1\" class=\"dataframe\">\n",
       "  <thead>\n",
       "    <tr style=\"text-align: right;\">\n",
       "      <th></th>\n",
       "      <th>restaurant_names</th>\n",
       "      <th>restaurant_ratings</th>\n",
       "      <th>restaurant_price</th>\n",
       "      <th>restaurant_neighbourhoods</th>\n",
       "      <th>restaurant_reviews</th>\n",
       "      <th>restaurant_type</th>\n",
       "    </tr>\n",
       "  </thead>\n",
       "  <tbody>\n",
       "    <tr>\n",
       "      <th>0</th>\n",
       "      <td>Restaurant Gordon Ramsay</td>\n",
       "      <td>4.5</td>\n",
       "      <td>4.0</td>\n",
       "      <td>Chelsea</td>\n",
       "      <td>215</td>\n",
       "      <td>FrenchBritish</td>\n",
       "    </tr>\n",
       "    <tr>\n",
       "      <th>1</th>\n",
       "      <td>The Mayfair Chippy</td>\n",
       "      <td>4.5</td>\n",
       "      <td>2.0</td>\n",
       "      <td>Mayfair</td>\n",
       "      <td>296</td>\n",
       "      <td>Fish &amp; Chips</td>\n",
       "    </tr>\n",
       "    <tr>\n",
       "      <th>2</th>\n",
       "      <td>Dishoom</td>\n",
       "      <td>4.5</td>\n",
       "      <td>2.0</td>\n",
       "      <td>Covent Garden</td>\n",
       "      <td>1894</td>\n",
       "      <td>Indian</td>\n",
       "    </tr>\n",
       "    <tr>\n",
       "      <th>3</th>\n",
       "      <td>The Fat Bear</td>\n",
       "      <td>4.5</td>\n",
       "      <td>2.0</td>\n",
       "      <td>Blackfriars</td>\n",
       "      <td>124</td>\n",
       "      <td>American (Traditional)Soul FoodCajun/Creole</td>\n",
       "    </tr>\n",
       "    <tr>\n",
       "      <th>4</th>\n",
       "      <td>Duck &amp; Waffle Local</td>\n",
       "      <td>4.5</td>\n",
       "      <td>2.0</td>\n",
       "      <td>Leicester Square</td>\n",
       "      <td>143</td>\n",
       "      <td>BarsWaffles</td>\n",
       "    </tr>\n",
       "    <tr>\n",
       "      <th>5</th>\n",
       "      <td>Honey &amp; Co</td>\n",
       "      <td>4.5</td>\n",
       "      <td>2.0</td>\n",
       "      <td>Fitzrovia</td>\n",
       "      <td>113</td>\n",
       "      <td>Middle Eastern</td>\n",
       "    </tr>\n",
       "    <tr>\n",
       "      <th>8</th>\n",
       "      <td>Flat Iron</td>\n",
       "      <td>4.5</td>\n",
       "      <td>2.0</td>\n",
       "      <td>Soho</td>\n",
       "      <td>397</td>\n",
       "      <td>Steakhouses</td>\n",
       "    </tr>\n",
       "    <tr>\n",
       "      <th>9</th>\n",
       "      <td>The Queens Arms</td>\n",
       "      <td>4.5</td>\n",
       "      <td>2.0</td>\n",
       "      <td>Victoria</td>\n",
       "      <td>123</td>\n",
       "      <td>BritishPubsGastropubs</td>\n",
       "    </tr>\n",
       "    <tr>\n",
       "      <th>10</th>\n",
       "      <td>The Victoria</td>\n",
       "      <td>4.5</td>\n",
       "      <td>2.0</td>\n",
       "      <td>Paddington</td>\n",
       "      <td>226</td>\n",
       "      <td>PubsBritish</td>\n",
       "    </tr>\n",
       "    <tr>\n",
       "      <th>11</th>\n",
       "      <td>Padella</td>\n",
       "      <td>4.5</td>\n",
       "      <td>2.0</td>\n",
       "      <td>London Bridge</td>\n",
       "      <td>222</td>\n",
       "      <td>Italian</td>\n",
       "    </tr>\n",
       "    <tr>\n",
       "      <th>14</th>\n",
       "      <td>Hawksmoor Seven Dials</td>\n",
       "      <td>4.5</td>\n",
       "      <td>3.0</td>\n",
       "      <td>Covent Garden</td>\n",
       "      <td>353</td>\n",
       "      <td>BritishSteakhousesCocktail Bars</td>\n",
       "    </tr>\n",
       "    <tr>\n",
       "      <th>19</th>\n",
       "      <td>The Golden Chippy</td>\n",
       "      <td>5.0</td>\n",
       "      <td>2.0</td>\n",
       "      <td>Deptford</td>\n",
       "      <td>114</td>\n",
       "      <td>Fish &amp; Chips</td>\n",
       "    </tr>\n",
       "    <tr>\n",
       "      <th>23</th>\n",
       "      <td>Dishoom</td>\n",
       "      <td>4.5</td>\n",
       "      <td>2.0</td>\n",
       "      <td>Soho</td>\n",
       "      <td>565</td>\n",
       "      <td>Indian</td>\n",
       "    </tr>\n",
       "    <tr>\n",
       "      <th>31</th>\n",
       "      <td>The Ledbury</td>\n",
       "      <td>4.5</td>\n",
       "      <td>4.0</td>\n",
       "      <td>Notting Hill</td>\n",
       "      <td>167</td>\n",
       "      <td>Modern European</td>\n",
       "    </tr>\n",
       "    <tr>\n",
       "      <th>39</th>\n",
       "      <td>Ffiona’s Restaurant</td>\n",
       "      <td>4.5</td>\n",
       "      <td>2.0</td>\n",
       "      <td>Kensington</td>\n",
       "      <td>270</td>\n",
       "      <td>British</td>\n",
       "    </tr>\n",
       "    <tr>\n",
       "      <th>47</th>\n",
       "      <td>The English Rose Cafe and Tea Shop</td>\n",
       "      <td>4.5</td>\n",
       "      <td>2.0</td>\n",
       "      <td>Victoria</td>\n",
       "      <td>213</td>\n",
       "      <td>Coffee &amp; TeaBreakfast &amp; BrunchCafes</td>\n",
       "    </tr>\n",
       "    <tr>\n",
       "      <th>48</th>\n",
       "      <td>Berners Tavern</td>\n",
       "      <td>4.5</td>\n",
       "      <td>3.0</td>\n",
       "      <td>Fitzrovia</td>\n",
       "      <td>121</td>\n",
       "      <td>BritishPubs</td>\n",
       "    </tr>\n",
       "    <tr>\n",
       "      <th>58</th>\n",
       "      <td>Regency Café</td>\n",
       "      <td>4.5</td>\n",
       "      <td>1.0</td>\n",
       "      <td>Westminster</td>\n",
       "      <td>399</td>\n",
       "      <td>Cafes</td>\n",
       "    </tr>\n",
       "    <tr>\n",
       "      <th>66</th>\n",
       "      <td>Savoir Faire</td>\n",
       "      <td>4.5</td>\n",
       "      <td>2.0</td>\n",
       "      <td>Bloomsbury</td>\n",
       "      <td>198</td>\n",
       "      <td>French</td>\n",
       "    </tr>\n",
       "    <tr>\n",
       "      <th>70</th>\n",
       "      <td>Savoir Faire</td>\n",
       "      <td>4.5</td>\n",
       "      <td>2.0</td>\n",
       "      <td>Bloomsbury</td>\n",
       "      <td>198</td>\n",
       "      <td>French</td>\n",
       "    </tr>\n",
       "    <tr>\n",
       "      <th>76</th>\n",
       "      <td>Maggie Jones’s</td>\n",
       "      <td>4.5</td>\n",
       "      <td>3.0</td>\n",
       "      <td>Kensington</td>\n",
       "      <td>120</td>\n",
       "      <td>British</td>\n",
       "    </tr>\n",
       "    <tr>\n",
       "      <th>78</th>\n",
       "      <td>Da Mario Restaurant</td>\n",
       "      <td>4.5</td>\n",
       "      <td>2.0</td>\n",
       "      <td>Kensington</td>\n",
       "      <td>141</td>\n",
       "      <td>Italian</td>\n",
       "    </tr>\n",
       "    <tr>\n",
       "      <th>98</th>\n",
       "      <td>Blacklock</td>\n",
       "      <td>4.5</td>\n",
       "      <td>3.0</td>\n",
       "      <td>Soho</td>\n",
       "      <td>113</td>\n",
       "      <td>BritishCocktail BarsSteakhouses</td>\n",
       "    </tr>\n",
       "    <tr>\n",
       "      <th>104</th>\n",
       "      <td>Kanada-Ya</td>\n",
       "      <td>4.5</td>\n",
       "      <td>2.0</td>\n",
       "      <td>Bloomsbury</td>\n",
       "      <td>170</td>\n",
       "      <td>Ramen</td>\n",
       "    </tr>\n",
       "    <tr>\n",
       "      <th>109</th>\n",
       "      <td>The Pig and Butcher</td>\n",
       "      <td>4.5</td>\n",
       "      <td>2.0</td>\n",
       "      <td>Islington</td>\n",
       "      <td>112</td>\n",
       "      <td>BritishGastropubs</td>\n",
       "    </tr>\n",
       "    <tr>\n",
       "      <th>110</th>\n",
       "      <td>The Pig and Butcher</td>\n",
       "      <td>4.5</td>\n",
       "      <td>2.0</td>\n",
       "      <td>Islington</td>\n",
       "      <td>112</td>\n",
       "      <td>BritishGastropubs</td>\n",
       "    </tr>\n",
       "    <tr>\n",
       "      <th>117</th>\n",
       "      <td>Dinner by Heston Blumenthal</td>\n",
       "      <td>4.5</td>\n",
       "      <td>4.0</td>\n",
       "      <td>Hyde Park</td>\n",
       "      <td>293</td>\n",
       "      <td>British</td>\n",
       "    </tr>\n",
       "    <tr>\n",
       "      <th>118</th>\n",
       "      <td>Honest Burgers Meard St - Soho</td>\n",
       "      <td>4.5</td>\n",
       "      <td>2.0</td>\n",
       "      <td>Soho</td>\n",
       "      <td>281</td>\n",
       "      <td>Burgers</td>\n",
       "    </tr>\n",
       "    <tr>\n",
       "      <th>151</th>\n",
       "      <td>Hawksmoor</td>\n",
       "      <td>4.5</td>\n",
       "      <td>3.0</td>\n",
       "      <td>Mayfair</td>\n",
       "      <td>153</td>\n",
       "      <td>SeafoodSteakhouses</td>\n",
       "    </tr>\n",
       "    <tr>\n",
       "      <th>156</th>\n",
       "      <td>Hoppers</td>\n",
       "      <td>4.5</td>\n",
       "      <td>2.0</td>\n",
       "      <td>Soho</td>\n",
       "      <td>115</td>\n",
       "      <td>Sri LankanAsian Fusion</td>\n",
       "    </tr>\n",
       "    <tr>\n",
       "      <th>166</th>\n",
       "      <td>Homeslice Neal’s Yard</td>\n",
       "      <td>4.5</td>\n",
       "      <td>2.0</td>\n",
       "      <td>Covent Garden</td>\n",
       "      <td>229</td>\n",
       "      <td>Pizza</td>\n",
       "    </tr>\n",
       "    <tr>\n",
       "      <th>194</th>\n",
       "      <td>The Harwood Arms</td>\n",
       "      <td>4.5</td>\n",
       "      <td>3.0</td>\n",
       "      <td>West Brompton</td>\n",
       "      <td>127</td>\n",
       "      <td>GastropubsBritish</td>\n",
       "    </tr>\n",
       "    <tr>\n",
       "      <th>205</th>\n",
       "      <td>The Harwood Arms</td>\n",
       "      <td>4.5</td>\n",
       "      <td>3.0</td>\n",
       "      <td>West Brompton</td>\n",
       "      <td>127</td>\n",
       "      <td>GastropubsBritish</td>\n",
       "    </tr>\n",
       "  </tbody>\n",
       "</table>\n",
       "</div>"
      ],
      "text/plain": [
       "                       restaurant_names  restaurant_ratings  restaurant_price  \\\n",
       "0              Restaurant Gordon Ramsay                 4.5               4.0   \n",
       "1                    The Mayfair Chippy                 4.5               2.0   \n",
       "2                               Dishoom                 4.5               2.0   \n",
       "3                          The Fat Bear                 4.5               2.0   \n",
       "4                   Duck & Waffle Local                 4.5               2.0   \n",
       "5                            Honey & Co                 4.5               2.0   \n",
       "8                             Flat Iron                 4.5               2.0   \n",
       "9                       The Queens Arms                 4.5               2.0   \n",
       "10                         The Victoria                 4.5               2.0   \n",
       "11                              Padella                 4.5               2.0   \n",
       "14                Hawksmoor Seven Dials                 4.5               3.0   \n",
       "19                    The Golden Chippy                 5.0               2.0   \n",
       "23                              Dishoom                 4.5               2.0   \n",
       "31                          The Ledbury                 4.5               4.0   \n",
       "39                  Ffiona’s Restaurant                 4.5               2.0   \n",
       "47   The English Rose Cafe and Tea Shop                 4.5               2.0   \n",
       "48                       Berners Tavern                 4.5               3.0   \n",
       "58                         Regency Café                 4.5               1.0   \n",
       "66                         Savoir Faire                 4.5               2.0   \n",
       "70                         Savoir Faire                 4.5               2.0   \n",
       "76                       Maggie Jones’s                 4.5               3.0   \n",
       "78                  Da Mario Restaurant                 4.5               2.0   \n",
       "98                            Blacklock                 4.5               3.0   \n",
       "104                           Kanada-Ya                 4.5               2.0   \n",
       "109                 The Pig and Butcher                 4.5               2.0   \n",
       "110                 The Pig and Butcher                 4.5               2.0   \n",
       "117         Dinner by Heston Blumenthal                 4.5               4.0   \n",
       "118      Honest Burgers Meard St - Soho                 4.5               2.0   \n",
       "151                           Hawksmoor                 4.5               3.0   \n",
       "156                             Hoppers                 4.5               2.0   \n",
       "166               Homeslice Neal’s Yard                 4.5               2.0   \n",
       "194                    The Harwood Arms                 4.5               3.0   \n",
       "205                    The Harwood Arms                 4.5               3.0   \n",
       "\n",
       "    restaurant_neighbourhoods  restaurant_reviews  \\\n",
       "0                     Chelsea                 215   \n",
       "1                     Mayfair                 296   \n",
       "2               Covent Garden                1894   \n",
       "3                 Blackfriars                 124   \n",
       "4            Leicester Square                 143   \n",
       "5                   Fitzrovia                 113   \n",
       "8                        Soho                 397   \n",
       "9                    Victoria                 123   \n",
       "10                 Paddington                 226   \n",
       "11              London Bridge                 222   \n",
       "14              Covent Garden                 353   \n",
       "19                   Deptford                 114   \n",
       "23                       Soho                 565   \n",
       "31               Notting Hill                 167   \n",
       "39                 Kensington                 270   \n",
       "47                   Victoria                 213   \n",
       "48                  Fitzrovia                 121   \n",
       "58                Westminster                 399   \n",
       "66                 Bloomsbury                 198   \n",
       "70                 Bloomsbury                 198   \n",
       "76                 Kensington                 120   \n",
       "78                 Kensington                 141   \n",
       "98                       Soho                 113   \n",
       "104                Bloomsbury                 170   \n",
       "109                 Islington                 112   \n",
       "110                 Islington                 112   \n",
       "117                 Hyde Park                 293   \n",
       "118                      Soho                 281   \n",
       "151                   Mayfair                 153   \n",
       "156                      Soho                 115   \n",
       "166             Covent Garden                 229   \n",
       "194             West Brompton                 127   \n",
       "205             West Brompton                 127   \n",
       "\n",
       "                                 restaurant_type  \n",
       "0                                  FrenchBritish  \n",
       "1                                   Fish & Chips  \n",
       "2                                         Indian  \n",
       "3    American (Traditional)Soul FoodCajun/Creole  \n",
       "4                                    BarsWaffles  \n",
       "5                                 Middle Eastern  \n",
       "8                                    Steakhouses  \n",
       "9                          BritishPubsGastropubs  \n",
       "10                                   PubsBritish  \n",
       "11                                       Italian  \n",
       "14               BritishSteakhousesCocktail Bars  \n",
       "19                                  Fish & Chips  \n",
       "23                                        Indian  \n",
       "31                               Modern European  \n",
       "39                                       British  \n",
       "47           Coffee & TeaBreakfast & BrunchCafes  \n",
       "48                                   BritishPubs  \n",
       "58                                         Cafes  \n",
       "66                                        French  \n",
       "70                                        French  \n",
       "76                                       British  \n",
       "78                                       Italian  \n",
       "98               BritishCocktail BarsSteakhouses  \n",
       "104                                        Ramen  \n",
       "109                            BritishGastropubs  \n",
       "110                            BritishGastropubs  \n",
       "117                                      British  \n",
       "118                                      Burgers  \n",
       "151                           SeafoodSteakhouses  \n",
       "156                       Sri LankanAsian Fusion  \n",
       "166                                        Pizza  \n",
       "194                            GastropubsBritish  \n",
       "205                            GastropubsBritish  "
      ]
     },
     "execution_count": 74,
     "metadata": {},
     "output_type": "execute_result"
    }
   ],
   "source": [
    "best_option = data1[(data1['restaurant_ratings'] > res1) & (data1['restaurant_reviews'] > res2)]\n",
    "best_option"
   ]
  },
  {
   "cell_type": "code",
   "execution_count": 75,
   "metadata": {},
   "outputs": [
    {
     "data": {
      "text/plain": [
       "British                                        3\n",
       "Fish & Chips                                   2\n",
       "GastropubsBritish                              2\n",
       "Italian                                        2\n",
       "Indian                                         2\n",
       "BritishGastropubs                              2\n",
       "French                                         2\n",
       "Pizza                                          1\n",
       "BritishCocktail BarsSteakhouses                1\n",
       "Steakhouses                                    1\n",
       "SeafoodSteakhouses                             1\n",
       "Ramen                                          1\n",
       "BarsWaffles                                    1\n",
       "Coffee & TeaBreakfast & BrunchCafes            1\n",
       "Sri LankanAsian Fusion                         1\n",
       "Modern European                                1\n",
       "BritishSteakhousesCocktail Bars                1\n",
       "PubsBritish                                    1\n",
       "Burgers                                        1\n",
       "BritishPubs                                    1\n",
       "American (Traditional)Soul FoodCajun/Creole    1\n",
       "BritishPubsGastropubs                          1\n",
       "FrenchBritish                                  1\n",
       "Cafes                                          1\n",
       "Middle Eastern                                 1\n",
       "Name: restaurant_type, dtype: int64"
      ]
     },
     "execution_count": 75,
     "metadata": {},
     "output_type": "execute_result"
    }
   ],
   "source": [
    "best_option[\"restaurant_type\"].value_counts()\n"
   ]
  },
  {
   "cell_type": "code",
   "execution_count": 77,
   "metadata": {},
   "outputs": [
    {
     "data": {
      "text/plain": [
       "Soho                5\n",
       "Bloomsbury          3\n",
       "Kensington          3\n",
       "Covent Garden       3\n",
       "Islington           2\n",
       "Victoria            2\n",
       "West Brompton       2\n",
       "Mayfair             2\n",
       "Fitzrovia           2\n",
       "Blackfriars         1\n",
       "London Bridge       1\n",
       "Chelsea             1\n",
       "Deptford            1\n",
       "Hyde Park           1\n",
       "Paddington          1\n",
       "Leicester Square    1\n",
       "Westminster         1\n",
       "Notting Hill        1\n",
       "Name: restaurant_neighbourhoods, dtype: int64"
      ]
     },
     "execution_count": 77,
     "metadata": {},
     "output_type": "execute_result"
    }
   ],
   "source": [
    "best_option[\"restaurant_neighbourhoods\"].value_counts()"
   ]
  },
  {
   "cell_type": "markdown",
   "metadata": {},
   "source": [
    "## Mostly occupied foods"
   ]
  },
  {
   "cell_type": "code",
   "execution_count": 50,
   "metadata": {},
   "outputs": [
    {
     "data": {
      "text/plain": [
       "Italian                   10\n",
       "British                    8\n",
       "PubsBritish                6\n",
       "Japanese                   6\n",
       "BritishBars                4\n",
       "BritishModern European     4\n",
       "Caribbean                  4\n",
       "Cafes                      3\n",
       "Breakfast & Brunch         3\n",
       "French                     3\n",
       "Name: restaurant_type, dtype: int64"
      ]
     },
     "execution_count": 50,
     "metadata": {},
     "output_type": "execute_result"
    }
   ],
   "source": [
    "food = data1['restaurant_type'].value_counts()\n",
    "fo = food.nlargest(10)\n",
    "fo"
   ]
  },
  {
   "cell_type": "code",
   "execution_count": 79,
   "metadata": {},
   "outputs": [
    {
     "data": {
      "text/plain": [
       "Text(0.5, 1.0, 'Mostly occupied food')"
      ]
     },
     "execution_count": 79,
     "metadata": {},
     "output_type": "execute_result"
    },
    {
     "data": {
      "image/png": "[encoded data removed]",
      "text/plain": [
       "<Figure size 432x288 with 1 Axes>"
      ]
     },
     "metadata": {
      "needs_background": "light"
     },
     "output_type": "display_data"
    }
   ],
   "source": [
    "name = ['Italian', 'British', 'PubsBritish', 'Japanese', 'BritishBars', 'BritishModern European', 'Caribbean', 'Cafes', 'Breakfast & Brunch', 'French']\n",
    "plt.barh(name, fo)\n",
    "plt.title('Mostly occupied food')"
   ]
  }
 ],
 "metadata": {
  "interpreter": {
   "hash": "73592dad14db8f3994cd458d5e0995dad9821ca28205c2106249abcaba41cb67"
  },
  "kernelspec": {
   "display_name": "Python 3.8.12 ('strive')",
   "language": "python",
   "name": "python3"
  },
  "language_info": {
   "codemirror_mode": {
    "name": "ipython",
    "version": 3
   },
   "file_extension": ".py",
   "mimetype": "text/x-python",
   "name": "python",
   "nbconvert_exporter": "python",
   "pygments_lexer": "ipython3",
   "version": "3.8.12"
  },
  "orig_nbformat": 4
 },
 "nbformat": 4,
 "nbformat_minor": 2
}
