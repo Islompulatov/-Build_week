{
 "cells": [
  {
   "cell_type": "code",
   "execution_count": 1,
   "metadata": {},
   "outputs": [],
   "source": [
    "import selenium\n",
    "from selenium import webdriver\n",
    "from selenium.webdriver.common.keys import Keys\n",
    "from selenium.webdriver.common.by import By\n",
    "from time import sleep\n",
    "from bs4 import BeautifulSoup\n",
    "import requests"
   ]
  },
  {
   "cell_type": "code",
   "execution_count": 2,
   "metadata": {},
   "outputs": [
    {
     "name": "stderr",
     "output_type": "stream",
     "text": [
      "C:\\Users\\ritth\\AppData\\Local\\Temp\\ipykernel_36276\\3945640233.py:2: DeprecationWarning: executable_path has been deprecated, please pass in a Service object\n",
      "  driver = webdriver.Chrome(pth)\n",
      "C:\\Users\\ritth\\AppData\\Local\\Temp\\ipykernel_36276\\3945640233.py:14: DeprecationWarning: find_elements_by_* commands are deprecated. Please use find_elements() instead\n",
      "  name = driver.find_elements_by_xpath(f\"/html/body/yelp-react-root/div[1]/div[3]/div[2]/div/div[1]/div/main/div/ul/li[{i}]/div/div/div/div[2]/div[1]/div[1]\")\n"
     ]
    },
    {
     "ename": "NoSuchElementException",
     "evalue": "Message: no such element: Unable to locate element: {\"method\":\"xpath\",\"selector\":\"/html/body/yelp-react-root/div[1]/div[3]/div[1]/div[2]/span/a/span/span\"}\n  (Session info: chrome=99.0.4844.84)\nStacktrace:\nBacktrace:\n\tOrdinal0 [0x00E49943+2595139]\n\tOrdinal0 [0x00DDC9F1+2148849]\n\tOrdinal0 [0x00CD4528+1066280]\n\tOrdinal0 [0x00D00FD4+1249236]\n\tOrdinal0 [0x00D011CB+1249739]\n\tOrdinal0 [0x00D2D812+1431570]\n\tOrdinal0 [0x00D1BA34+1358388]\n\tOrdinal0 [0x00D2BAF2+1424114]\n\tOrdinal0 [0x00D1B806+1357830]\n\tOrdinal0 [0x00CF6086+1204358]\n\tOrdinal0 [0x00CF6F96+1208214]\n\tGetHandleVerifier [0x00FEB232+1658114]\n\tGetHandleVerifier [0x010A312C+2411516]\n\tGetHandleVerifier [0x00EDF261+560433]\n\tGetHandleVerifier [0x00EDE366+556598]\n\tOrdinal0 [0x00DE286B+2173035]\n\tOrdinal0 [0x00DE75F8+2192888]\n\tOrdinal0 [0x00DE76E5+2193125]\n\tOrdinal0 [0x00DF11FC+2232828]\n\tBaseThreadInitThunk [0x76C66739+25]\n\tRtlGetFullPathName_UEx [0x77758E7F+1215]\n\tRtlGetFullPathName_UEx [0x77758E4D+1165]\n",
     "output_type": "error",
     "traceback": [
      "\u001b[1;31m---------------------------------------------------------------------------\u001b[0m",
      "\u001b[1;31mNoSuchElementException\u001b[0m                    Traceback (most recent call last)",
      "\u001b[1;32mc:\\Users\\ritth\\code\\Strive\\-Build_week\\scraping.ipynb Cell 2'\u001b[0m in \u001b[0;36m<cell line: 3>\u001b[1;34m()\u001b[0m\n\u001b[0;32m     <a href='vscode-notebook-cell:/c%3A/Users/ritth/code/Strive/-Build_week/scraping.ipynb#ch0000001?line=17'>18</a>\u001b[0m     \u001b[39mfor\u001b[39;00m element \u001b[39min\u001b[39;00m name:\n\u001b[0;32m     <a href='vscode-notebook-cell:/c%3A/Users/ritth/code/Strive/-Build_week/scraping.ipynb#ch0000001?line=18'>19</a>\u001b[0m         hotel_name\u001b[39m.\u001b[39mappend(element\u001b[39m.\u001b[39mtext)\n\u001b[1;32m---> <a href='vscode-notebook-cell:/c%3A/Users/ritth/code/Strive/-Build_week/scraping.ipynb#ch0000001?line=19'>20</a>\u001b[0m num_pict \u001b[39m=\u001b[39m driver\u001b[39m.\u001b[39;49mfind_element(By\u001b[39m.\u001b[39;49mXPATH, \u001b[39m'\u001b[39;49m\u001b[39m/html/body/yelp-react-root/div[1]/div[3]/div[1]/div[2]/span/a/span/span\u001b[39;49m\u001b[39m'\u001b[39;49m)\u001b[39m.\u001b[39mtext\n",
      "File \u001b[1;32m~\\software\\anaconda\\envs\\strive\\lib\\site-packages\\selenium\\webdriver\\remote\\webdriver.py:1244\u001b[0m, in \u001b[0;36mWebDriver.find_element\u001b[1;34m(self, by, value)\u001b[0m\n\u001b[0;32m   <a href='file:///c%3A/Users/ritth/software/anaconda/envs/strive/lib/site-packages/selenium/webdriver/remote/webdriver.py?line=1240'>1241</a>\u001b[0m     by \u001b[39m=\u001b[39m By\u001b[39m.\u001b[39mCSS_SELECTOR\n\u001b[0;32m   <a href='file:///c%3A/Users/ritth/software/anaconda/envs/strive/lib/site-packages/selenium/webdriver/remote/webdriver.py?line=1241'>1242</a>\u001b[0m     value \u001b[39m=\u001b[39m \u001b[39m'\u001b[39m\u001b[39m[name=\u001b[39m\u001b[39m\"\u001b[39m\u001b[39m%s\u001b[39;00m\u001b[39m\"\u001b[39m\u001b[39m]\u001b[39m\u001b[39m'\u001b[39m \u001b[39m%\u001b[39m value\n\u001b[1;32m-> <a href='file:///c%3A/Users/ritth/software/anaconda/envs/strive/lib/site-packages/selenium/webdriver/remote/webdriver.py?line=1243'>1244</a>\u001b[0m \u001b[39mreturn\u001b[39;00m \u001b[39mself\u001b[39;49m\u001b[39m.\u001b[39;49mexecute(Command\u001b[39m.\u001b[39;49mFIND_ELEMENT, {\n\u001b[0;32m   <a href='file:///c%3A/Users/ritth/software/anaconda/envs/strive/lib/site-packages/selenium/webdriver/remote/webdriver.py?line=1244'>1245</a>\u001b[0m     \u001b[39m'\u001b[39;49m\u001b[39musing\u001b[39;49m\u001b[39m'\u001b[39;49m: by,\n\u001b[0;32m   <a href='file:///c%3A/Users/ritth/software/anaconda/envs/strive/lib/site-packages/selenium/webdriver/remote/webdriver.py?line=1245'>1246</a>\u001b[0m     \u001b[39m'\u001b[39;49m\u001b[39mvalue\u001b[39;49m\u001b[39m'\u001b[39;49m: value})[\u001b[39m'\u001b[39m\u001b[39mvalue\u001b[39m\u001b[39m'\u001b[39m]\n",
      "File \u001b[1;32m~\\software\\anaconda\\envs\\strive\\lib\\site-packages\\selenium\\webdriver\\remote\\webdriver.py:424\u001b[0m, in \u001b[0;36mWebDriver.execute\u001b[1;34m(self, driver_command, params)\u001b[0m\n\u001b[0;32m    <a href='file:///c%3A/Users/ritth/software/anaconda/envs/strive/lib/site-packages/selenium/webdriver/remote/webdriver.py?line=421'>422</a>\u001b[0m response \u001b[39m=\u001b[39m \u001b[39mself\u001b[39m\u001b[39m.\u001b[39mcommand_executor\u001b[39m.\u001b[39mexecute(driver_command, params)\n\u001b[0;32m    <a href='file:///c%3A/Users/ritth/software/anaconda/envs/strive/lib/site-packages/selenium/webdriver/remote/webdriver.py?line=422'>423</a>\u001b[0m \u001b[39mif\u001b[39;00m response:\n\u001b[1;32m--> <a href='file:///c%3A/Users/ritth/software/anaconda/envs/strive/lib/site-packages/selenium/webdriver/remote/webdriver.py?line=423'>424</a>\u001b[0m     \u001b[39mself\u001b[39;49m\u001b[39m.\u001b[39;49merror_handler\u001b[39m.\u001b[39;49mcheck_response(response)\n\u001b[0;32m    <a href='file:///c%3A/Users/ritth/software/anaconda/envs/strive/lib/site-packages/selenium/webdriver/remote/webdriver.py?line=424'>425</a>\u001b[0m     response[\u001b[39m'\u001b[39m\u001b[39mvalue\u001b[39m\u001b[39m'\u001b[39m] \u001b[39m=\u001b[39m \u001b[39mself\u001b[39m\u001b[39m.\u001b[39m_unwrap_value(\n\u001b[0;32m    <a href='file:///c%3A/Users/ritth/software/anaconda/envs/strive/lib/site-packages/selenium/webdriver/remote/webdriver.py?line=425'>426</a>\u001b[0m         response\u001b[39m.\u001b[39mget(\u001b[39m'\u001b[39m\u001b[39mvalue\u001b[39m\u001b[39m'\u001b[39m, \u001b[39mNone\u001b[39;00m))\n\u001b[0;32m    <a href='file:///c%3A/Users/ritth/software/anaconda/envs/strive/lib/site-packages/selenium/webdriver/remote/webdriver.py?line=426'>427</a>\u001b[0m     \u001b[39mreturn\u001b[39;00m response\n",
      "File \u001b[1;32m~\\software\\anaconda\\envs\\strive\\lib\\site-packages\\selenium\\webdriver\\remote\\errorhandler.py:247\u001b[0m, in \u001b[0;36mErrorHandler.check_response\u001b[1;34m(self, response)\u001b[0m\n\u001b[0;32m    <a href='file:///c%3A/Users/ritth/software/anaconda/envs/strive/lib/site-packages/selenium/webdriver/remote/errorhandler.py?line=244'>245</a>\u001b[0m         alert_text \u001b[39m=\u001b[39m value[\u001b[39m'\u001b[39m\u001b[39malert\u001b[39m\u001b[39m'\u001b[39m]\u001b[39m.\u001b[39mget(\u001b[39m'\u001b[39m\u001b[39mtext\u001b[39m\u001b[39m'\u001b[39m)\n\u001b[0;32m    <a href='file:///c%3A/Users/ritth/software/anaconda/envs/strive/lib/site-packages/selenium/webdriver/remote/errorhandler.py?line=245'>246</a>\u001b[0m     \u001b[39mraise\u001b[39;00m exception_class(message, screen, stacktrace, alert_text)  \u001b[39m# type: ignore[call-arg]  # mypy is not smart enough here\u001b[39;00m\n\u001b[1;32m--> <a href='file:///c%3A/Users/ritth/software/anaconda/envs/strive/lib/site-packages/selenium/webdriver/remote/errorhandler.py?line=246'>247</a>\u001b[0m \u001b[39mraise\u001b[39;00m exception_class(message, screen, stacktrace)\n",
      "\u001b[1;31mNoSuchElementException\u001b[0m: Message: no such element: Unable to locate element: {\"method\":\"xpath\",\"selector\":\"/html/body/yelp-react-root/div[1]/div[3]/div[1]/div[2]/span/a/span/span\"}\n  (Session info: chrome=99.0.4844.84)\nStacktrace:\nBacktrace:\n\tOrdinal0 [0x00E49943+2595139]\n\tOrdinal0 [0x00DDC9F1+2148849]\n\tOrdinal0 [0x00CD4528+1066280]\n\tOrdinal0 [0x00D00FD4+1249236]\n\tOrdinal0 [0x00D011CB+1249739]\n\tOrdinal0 [0x00D2D812+1431570]\n\tOrdinal0 [0x00D1BA34+1358388]\n\tOrdinal0 [0x00D2BAF2+1424114]\n\tOrdinal0 [0x00D1B806+1357830]\n\tOrdinal0 [0x00CF6086+1204358]\n\tOrdinal0 [0x00CF6F96+1208214]\n\tGetHandleVerifier [0x00FEB232+1658114]\n\tGetHandleVerifier [0x010A312C+2411516]\n\tGetHandleVerifier [0x00EDF261+560433]\n\tGetHandleVerifier [0x00EDE366+556598]\n\tOrdinal0 [0x00DE286B+2173035]\n\tOrdinal0 [0x00DE75F8+2192888]\n\tOrdinal0 [0x00DE76E5+2193125]\n\tOrdinal0 [0x00DF11FC+2232828]\n\tBaseThreadInitThunk [0x76C66739+25]\n\tRtlGetFullPathName_UEx [0x77758E7F+1215]\n\tRtlGetFullPathName_UEx [0x77758E4D+1165]\n"
     ]
    }
   ],
   "source": [
    "pth = 'chromedriver.exe'\n",
    "driver = webdriver.Chrome(pth)\n",
    "for i in range(0,240,10):\n",
    "    url = f'https://www.yelp.co.uk/search?find_desc=hotels&find_loc=London%2C+United+Kingdom&start={i}'\n",
    " \n",
    "    \n",
    "    driver.get(url)\n",
    "    sleep(3)\n",
    "    try:\n",
    "        button =driver.find_element(By.XPATH, \"/html/body/div[2]/div[3]/div/div[1]/div/div[2]/div/button[3]\").click()\n",
    "    except:\n",
    "        pass\n",
    "    for i in range(4,14):\n",
    "        name = driver.find_elements_by_xpath(f\"/html/body/yelp-react-root/div[1]/div[3]/div[2]/div/div[1]/div/main/div/ul/li[{i}]/div/div/div/div[2]/div[1]/div[1]\")\n",
    "                                                # /html/body/yelp-react-root/div[1]/div[3]/div[2]/div/div[1]/div/main/div/ul/li[4]/div/div/div/div[2]/div[1]/div[1]\n",
    "                                                # /html/body/yelp-react-root/div[1]/div[3]/div[2]/div/div[1]/div/main/div/ul/li[13]/div/div/div/div[2]/div[1]/div\n",
    "        hotel_name = []\n",
    "        for element in name:\n",
    "            hotel_name.append(element.text)\n",
    "    num_pict = driver.find_element(By.XPATH, '/html/body/yelp-react-root/div[1]/div[3]/div[1]/div[2]/span/a/span/span').text\n",
    "       \n",
    "    \n",
    "    \n",
    "    # driver.quit()"
   ]
  },
  {
   "cell_type": "code",
   "execution_count": 3,
   "metadata": {},
   "outputs": [
    {
     "ename": "NoSuchElementException",
     "evalue": "Message: no such element: Unable to locate element: {\"method\":\"xpath\",\"selector\":\"/html/body/yelp-react-root/div[1]/div[3]/div[1]/div[2]/span/a/span/span\"}\n  (Session info: chrome=99.0.4844.84)\nStacktrace:\nBacktrace:\n\tOrdinal0 [0x00E49943+2595139]\n\tOrdinal0 [0x00DDC9F1+2148849]\n\tOrdinal0 [0x00CD4528+1066280]\n\tOrdinal0 [0x00D00FD4+1249236]\n\tOrdinal0 [0x00D011CB+1249739]\n\tOrdinal0 [0x00D2D812+1431570]\n\tOrdinal0 [0x00D1BA34+1358388]\n\tOrdinal0 [0x00D2BAF2+1424114]\n\tOrdinal0 [0x00D1B806+1357830]\n\tOrdinal0 [0x00CF6086+1204358]\n\tOrdinal0 [0x00CF6F96+1208214]\n\tGetHandleVerifier [0x00FEB232+1658114]\n\tGetHandleVerifier [0x010A312C+2411516]\n\tGetHandleVerifier [0x00EDF261+560433]\n\tGetHandleVerifier [0x00EDE366+556598]\n\tOrdinal0 [0x00DE286B+2173035]\n\tOrdinal0 [0x00DE75F8+2192888]\n\tOrdinal0 [0x00DE76E5+2193125]\n\tOrdinal0 [0x00DF11FC+2232828]\n\tBaseThreadInitThunk [0x76C66739+25]\n\tRtlGetFullPathName_UEx [0x77758E7F+1215]\n\tRtlGetFullPathName_UEx [0x77758E4D+1165]\n",
     "output_type": "error",
     "traceback": [
      "\u001b[1;31m---------------------------------------------------------------------------\u001b[0m",
      "\u001b[1;31mNoSuchElementException\u001b[0m                    Traceback (most recent call last)",
      "\u001b[1;32mc:\\Users\\ritth\\code\\Strive\\-Build_week\\scraping.ipynb Cell 3'\u001b[0m in \u001b[0;36m<cell line: 3>\u001b[1;34m()\u001b[0m\n\u001b[0;32m      <a href='vscode-notebook-cell:/c%3A/Users/ritth/code/Strive/-Build_week/scraping.ipynb#ch0000002?line=0'>1</a>\u001b[0m more \u001b[39m=\u001b[39m driver\u001b[39m.\u001b[39mfind_elements(By\u001b[39m.\u001b[39mXPATH, \u001b[39mf\u001b[39m\u001b[39m\"\u001b[39m\u001b[39m.//*[@id=\u001b[39m\u001b[39m'\u001b[39m\u001b[39mmain-content\u001b[39m\u001b[39m'\u001b[39m\u001b[39m]/div/ul/li[4]/div/div/div/div[2]/div[2]/div/div/div/div[2]/p/span[2]/a\u001b[39m\u001b[39m\"\u001b[39m)\n\u001b[1;32m----> <a href='vscode-notebook-cell:/c%3A/Users/ritth/code/Strive/-Build_week/scraping.ipynb#ch0000002?line=2'>3</a>\u001b[0m num_pict \u001b[39m=\u001b[39m driver\u001b[39m.\u001b[39;49mfind_element(By\u001b[39m.\u001b[39;49mXPATH, \u001b[39m'\u001b[39;49m\u001b[39m/html/body/yelp-react-root/div[1]/div[3]/div[1]/div[2]/span/a/span/span\u001b[39;49m\u001b[39m'\u001b[39;49m)\u001b[39m.\u001b[39mtext\n\u001b[0;32m      <a href='vscode-notebook-cell:/c%3A/Users/ritth/code/Strive/-Build_week/scraping.ipynb#ch0000002?line=3'>4</a>\u001b[0m \u001b[39mprint\u001b[39m(num_pict)\n",
      "File \u001b[1;32m~\\software\\anaconda\\envs\\strive\\lib\\site-packages\\selenium\\webdriver\\remote\\webdriver.py:1244\u001b[0m, in \u001b[0;36mWebDriver.find_element\u001b[1;34m(self, by, value)\u001b[0m\n\u001b[0;32m   <a href='file:///c%3A/Users/ritth/software/anaconda/envs/strive/lib/site-packages/selenium/webdriver/remote/webdriver.py?line=1240'>1241</a>\u001b[0m     by \u001b[39m=\u001b[39m By\u001b[39m.\u001b[39mCSS_SELECTOR\n\u001b[0;32m   <a href='file:///c%3A/Users/ritth/software/anaconda/envs/strive/lib/site-packages/selenium/webdriver/remote/webdriver.py?line=1241'>1242</a>\u001b[0m     value \u001b[39m=\u001b[39m \u001b[39m'\u001b[39m\u001b[39m[name=\u001b[39m\u001b[39m\"\u001b[39m\u001b[39m%s\u001b[39;00m\u001b[39m\"\u001b[39m\u001b[39m]\u001b[39m\u001b[39m'\u001b[39m \u001b[39m%\u001b[39m value\n\u001b[1;32m-> <a href='file:///c%3A/Users/ritth/software/anaconda/envs/strive/lib/site-packages/selenium/webdriver/remote/webdriver.py?line=1243'>1244</a>\u001b[0m \u001b[39mreturn\u001b[39;00m \u001b[39mself\u001b[39;49m\u001b[39m.\u001b[39;49mexecute(Command\u001b[39m.\u001b[39;49mFIND_ELEMENT, {\n\u001b[0;32m   <a href='file:///c%3A/Users/ritth/software/anaconda/envs/strive/lib/site-packages/selenium/webdriver/remote/webdriver.py?line=1244'>1245</a>\u001b[0m     \u001b[39m'\u001b[39;49m\u001b[39musing\u001b[39;49m\u001b[39m'\u001b[39;49m: by,\n\u001b[0;32m   <a href='file:///c%3A/Users/ritth/software/anaconda/envs/strive/lib/site-packages/selenium/webdriver/remote/webdriver.py?line=1245'>1246</a>\u001b[0m     \u001b[39m'\u001b[39;49m\u001b[39mvalue\u001b[39;49m\u001b[39m'\u001b[39;49m: value})[\u001b[39m'\u001b[39m\u001b[39mvalue\u001b[39m\u001b[39m'\u001b[39m]\n",
      "File \u001b[1;32m~\\software\\anaconda\\envs\\strive\\lib\\site-packages\\selenium\\webdriver\\remote\\webdriver.py:424\u001b[0m, in \u001b[0;36mWebDriver.execute\u001b[1;34m(self, driver_command, params)\u001b[0m\n\u001b[0;32m    <a href='file:///c%3A/Users/ritth/software/anaconda/envs/strive/lib/site-packages/selenium/webdriver/remote/webdriver.py?line=421'>422</a>\u001b[0m response \u001b[39m=\u001b[39m \u001b[39mself\u001b[39m\u001b[39m.\u001b[39mcommand_executor\u001b[39m.\u001b[39mexecute(driver_command, params)\n\u001b[0;32m    <a href='file:///c%3A/Users/ritth/software/anaconda/envs/strive/lib/site-packages/selenium/webdriver/remote/webdriver.py?line=422'>423</a>\u001b[0m \u001b[39mif\u001b[39;00m response:\n\u001b[1;32m--> <a href='file:///c%3A/Users/ritth/software/anaconda/envs/strive/lib/site-packages/selenium/webdriver/remote/webdriver.py?line=423'>424</a>\u001b[0m     \u001b[39mself\u001b[39;49m\u001b[39m.\u001b[39;49merror_handler\u001b[39m.\u001b[39;49mcheck_response(response)\n\u001b[0;32m    <a href='file:///c%3A/Users/ritth/software/anaconda/envs/strive/lib/site-packages/selenium/webdriver/remote/webdriver.py?line=424'>425</a>\u001b[0m     response[\u001b[39m'\u001b[39m\u001b[39mvalue\u001b[39m\u001b[39m'\u001b[39m] \u001b[39m=\u001b[39m \u001b[39mself\u001b[39m\u001b[39m.\u001b[39m_unwrap_value(\n\u001b[0;32m    <a href='file:///c%3A/Users/ritth/software/anaconda/envs/strive/lib/site-packages/selenium/webdriver/remote/webdriver.py?line=425'>426</a>\u001b[0m         response\u001b[39m.\u001b[39mget(\u001b[39m'\u001b[39m\u001b[39mvalue\u001b[39m\u001b[39m'\u001b[39m, \u001b[39mNone\u001b[39;00m))\n\u001b[0;32m    <a href='file:///c%3A/Users/ritth/software/anaconda/envs/strive/lib/site-packages/selenium/webdriver/remote/webdriver.py?line=426'>427</a>\u001b[0m     \u001b[39mreturn\u001b[39;00m response\n",
      "File \u001b[1;32m~\\software\\anaconda\\envs\\strive\\lib\\site-packages\\selenium\\webdriver\\remote\\errorhandler.py:247\u001b[0m, in \u001b[0;36mErrorHandler.check_response\u001b[1;34m(self, response)\u001b[0m\n\u001b[0;32m    <a href='file:///c%3A/Users/ritth/software/anaconda/envs/strive/lib/site-packages/selenium/webdriver/remote/errorhandler.py?line=244'>245</a>\u001b[0m         alert_text \u001b[39m=\u001b[39m value[\u001b[39m'\u001b[39m\u001b[39malert\u001b[39m\u001b[39m'\u001b[39m]\u001b[39m.\u001b[39mget(\u001b[39m'\u001b[39m\u001b[39mtext\u001b[39m\u001b[39m'\u001b[39m)\n\u001b[0;32m    <a href='file:///c%3A/Users/ritth/software/anaconda/envs/strive/lib/site-packages/selenium/webdriver/remote/errorhandler.py?line=245'>246</a>\u001b[0m     \u001b[39mraise\u001b[39;00m exception_class(message, screen, stacktrace, alert_text)  \u001b[39m# type: ignore[call-arg]  # mypy is not smart enough here\u001b[39;00m\n\u001b[1;32m--> <a href='file:///c%3A/Users/ritth/software/anaconda/envs/strive/lib/site-packages/selenium/webdriver/remote/errorhandler.py?line=246'>247</a>\u001b[0m \u001b[39mraise\u001b[39;00m exception_class(message, screen, stacktrace)\n",
      "\u001b[1;31mNoSuchElementException\u001b[0m: Message: no such element: Unable to locate element: {\"method\":\"xpath\",\"selector\":\"/html/body/yelp-react-root/div[1]/div[3]/div[1]/div[2]/span/a/span/span\"}\n  (Session info: chrome=99.0.4844.84)\nStacktrace:\nBacktrace:\n\tOrdinal0 [0x00E49943+2595139]\n\tOrdinal0 [0x00DDC9F1+2148849]\n\tOrdinal0 [0x00CD4528+1066280]\n\tOrdinal0 [0x00D00FD4+1249236]\n\tOrdinal0 [0x00D011CB+1249739]\n\tOrdinal0 [0x00D2D812+1431570]\n\tOrdinal0 [0x00D1BA34+1358388]\n\tOrdinal0 [0x00D2BAF2+1424114]\n\tOrdinal0 [0x00D1B806+1357830]\n\tOrdinal0 [0x00CF6086+1204358]\n\tOrdinal0 [0x00CF6F96+1208214]\n\tGetHandleVerifier [0x00FEB232+1658114]\n\tGetHandleVerifier [0x010A312C+2411516]\n\tGetHandleVerifier [0x00EDF261+560433]\n\tGetHandleVerifier [0x00EDE366+556598]\n\tOrdinal0 [0x00DE286B+2173035]\n\tOrdinal0 [0x00DE75F8+2192888]\n\tOrdinal0 [0x00DE76E5+2193125]\n\tOrdinal0 [0x00DF11FC+2232828]\n\tBaseThreadInitThunk [0x76C66739+25]\n\tRtlGetFullPathName_UEx [0x77758E7F+1215]\n\tRtlGetFullPathName_UEx [0x77758E4D+1165]\n"
     ]
    }
   ],
   "source": [
    "\n",
    "more = driver.find_elements(By.XPATH, f\".//*[@id='main-content']/div/ul/li[4]/div/div/div/div[2]/div[2]/div/div/div/div[2]/p/span[2]/a\")\n",
    "\n",
    "num_pict = driver.find_element(By.XPATH, '/html/body/yelp-react-root/div[1]/div[3]/div[1]/div[2]/span/a/span/span').text\n",
    "print(num_pict)\n",
    "\n",
    "\n"
   ]
  },
  {
   "cell_type": "code",
   "execution_count": null,
   "metadata": {},
   "outputs": [],
   "source": [
    "\n",
    "mores = driver.find_elements_by_class_name(\"css-1m051bw\")\n",
    "items = []\n",
    "for element in mores:\n",
    "    item = element.get_attribute(\"href\")\n",
    "    items.append(item)\n",
    "\n",
    "\n",
    "        \n"
   ]
  },
  {
   "cell_type": "code",
   "execution_count": null,
   "metadata": {},
   "outputs": [
    {
     "data": {
      "text/plain": [
       "34"
      ]
     },
     "execution_count": 100,
     "metadata": {},
     "output_type": "execute_result"
    }
   ],
   "source": [
    "len(items)"
   ]
  },
  {
   "cell_type": "code",
   "execution_count": null,
   "metadata": {},
   "outputs": [
    {
     "data": {
      "text/plain": [
       "'https://biz.yelp.com/signup/eCS9km_3I4yQZ4x6dpFdCA/account?utm_campaign=claim_business&utm_medium=www&utm_source=biz_page_unclaimed&utm_content=claim_status_link_react&hl=en_GB'"
      ]
     },
     "execution_count": 103,
     "metadata": {},
     "output_type": "execute_result"
    }
   ],
   "source": [
    "items[0]"
   ]
  },
  {
   "cell_type": "code",
   "execution_count": null,
   "metadata": {},
   "outputs": [
    {
     "name": "stdout",
     "output_type": "stream",
     "text": [
      "https://biz.yelp.com/signup/eCS9km_3I4yQZ4x6dpFdCA/account?utm_campaign=claim_business&utm_medium=www&utm_source=biz_page_unclaimed&utm_content=claim_status_link_react&hl=en_GB\n"
     ]
    }
   ],
   "source": [
    "try:\n",
    "\n",
    "    for i in items:\n",
    "        print(i)\n",
    "        page = requests.get(i)\n",
    "        soup = BeautifulSoup(page.content, \"html.parser\")\n",
    "        reviews = soup.find_all('span', class_='css-1fdy0l5')\n",
    "        # num_pict = driver.find_elements(By.XPATH, '/html/body/yelp-react-root/div[1]/div[3]/div[1]/div[2]/span/a/span/span')\n",
    "        # print(num_pict)\n",
    "        \n",
    "        amenities = soup.find_all('div', class_ ='arrange__09f24__LDfbs gutter-2__09f24__CCmUo layout-wrap__09f24__GEBlv layout-2-units__09f24__PsGVW border-color--default__09f24__NPAKY')\n",
    "        print(amenities[0].text)\n",
    "except IndexError:\n",
    "    pass  \n",
    "\n",
    "    # print(reviews[0].text)"
   ]
  },
  {
   "cell_type": "code",
   "execution_count": null,
   "metadata": {},
   "outputs": [],
   "source": [
    "  "
   ]
  },
  {
   "cell_type": "code",
   "execution_count": null,
   "metadata": {},
   "outputs": [
    {
     "name": "stdout",
     "output_type": "stream",
     "text": [
      "Accepts Debit Cards\n",
      "Free Wi-Fi\n",
      "https://thehoxton.com\n"
     ]
    }
   ],
   "source": [
    "\n",
    "mores = driver.find_element_by_xpath(\"//*[@id='main-content']/div/ul/li[4]/div/div/div/div[2]/div[2]/div/div/div/div[2]/p/span[2]/a\").click()\n",
    "amenies = driver.find_elements_by_class_name(\"css-1p9ibgf\")\n",
    "for element in amenies[13:16]:\n",
    "    # items = element.get_attribute(\"href\")\n",
    "        print(element.text)    \n",
    "    "
   ]
  },
  {
   "cell_type": "code",
   "execution_count": null,
   "metadata": {},
   "outputs": [
    {
     "name": "stdout",
     "output_type": "stream",
     "text": [
      "4.5 star rating\n"
     ]
    }
   ],
   "source": [
    "rating_avg = driver.find_element(By.XPATH, \"/html/body/yelp-react-root/div[1]/div[3]/div[1]/div[1]/div/div/div[2]/div[1]/span/div\").get_attribute('aria-label')\n",
    "print(rating_avg)\n",
    "review = driver.find_element(By.XPATH)\n"
   ]
  }
 ],
 "metadata": {
  "interpreter": {
   "hash": "770021e68aae5e5bc49f7a3b6edb919a4a251fef8e7696fd47196c25263b13c4"
  },
  "kernelspec": {
   "display_name": "Python 3.9.7 ('base')",
   "language": "python",
   "name": "python3"
  },
  "language_info": {
   "codemirror_mode": {
    "name": "ipython",
    "version": 3
   },
   "file_extension": ".py",
   "mimetype": "text/x-python",
   "name": "python",
   "nbconvert_exporter": "python",
   "pygments_lexer": "ipython3",
   "version": "3.8.12"
  },
  "orig_nbformat": 4
 },
 "nbformat": 4,
 "nbformat_minor": 2
}
