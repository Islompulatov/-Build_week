{
 "cells": [
  {
   "cell_type": "code",
   "execution_count": 1,
   "metadata": {},
   "outputs": [],
   "source": [
    "import selenium\n",
    "from selenium import webdriver\n",
    "from selenium.webdriver.common.keys import Keys\n",
    "from selenium.webdriver.common.by import By\n",
    "from time import sleep"
   ]
  },
  {
   "cell_type": "code",
   "execution_count": 2,
   "metadata": {},
   "outputs": [],
   "source": [
    "pth = 'chromedriver.exe'\n",
    "driver = webdriver.Chrome(pth)\n",
    "for i in range(0,240,10):\n",
    "    url = f'https://www.yelp.co.uk/search?find_desc=hotels&find_loc=London%2C+United+Kingdom&start={i}'\n",
    " \n",
    "    \n",
    "    driver.get(url)\n",
    "    sleep(3)\n",
    "    try:\n",
    "        button =driver.find_element(By.XPATH, \"/html/body/div[2]/div[3]/div/div[1]/div/div[2]/div/button[3]\").click()\n",
    "    except:\n",
    "        pass\n",
    "    for i in range(4,14):\n",
    "        name = driver.find_elements_by_xpath(f\"/html/body/yelp-react-root/div[1]/div[3]/div[2]/div/div[1]/div/main/div/ul/li[{i}]/div/div/div/div[2]/div[1]/div[1]\")\n",
    "                                                # /html/body/yelp-react-root/div[1]/div[3]/div[2]/div/div[1]/div/main/div/ul/li[4]/div/div/div/div[2]/div[1]/div[1]\n",
    "                                                # /html/body/yelp-react-root/div[1]/div[3]/div[2]/div/div[1]/div/main/div/ul/li[13]/div/div/div/div[2]/div[1]/div\n",
    "        hotel_name = []\n",
    "        for element in name:\n",
    "            hotel_name.append(element.text)\n",
    "\n",
    "    \n",
    "    # driver.quit()"
   ]
  },
  {
   "cell_type": "code",
   "execution_count": 7,
   "metadata": {},
   "outputs": [],
   "source": [
    "\n",
    "more = driver.find_elements(By.XPATH, f\".//*[@id='main-content']/div/ul/li[4]/div/div/div/div[2]/div[2]/div/div/div/div[2]/p/span[2]/a\")\n",
    "\n"
   ]
  },
  {
   "cell_type": "code",
   "execution_count": 23,
   "metadata": {},
   "outputs": [],
   "source": [
    "\n",
    "mores = driver.find_elements_by_class_name(\"css-1um3nx\")\n"
   ]
  },
  {
   "cell_type": "code",
   "execution_count": 24,
   "metadata": {},
   "outputs": [
    {
     "name": "stdout",
     "output_type": "stream",
     "text": [
      "10\n"
     ]
    }
   ],
   "source": [
    "print(len(mores))"
   ]
  },
  {
   "cell_type": "code",
   "execution_count": 25,
   "metadata": {},
   "outputs": [
    {
     "name": "stdout",
     "output_type": "stream",
     "text": [
      "https://www.yelp.co.uk/biz/the-hoxton-shoreditch-london?hrid=ejqJLu1cdKvEd-OK-yLRSg&osq=hotels\n",
      "https://www.yelp.co.uk/biz/london-marriott-hotel-park-lane-london?hrid=4ofjm6Ete7WR169rpcRfrA&osq=hotels\n",
      "https://www.yelp.co.uk/biz/doubletree-by-hilton-hotel-london-hyde-park-london-3?hrid=WwkZ1Dq3KTF7z7kpilo8cA&osq=hotels\n",
      "https://www.yelp.co.uk/biz/savoy-hotel-london?hrid=SAOVO6mnofw5eO0Fam3k2w&osq=hotels\n",
      "https://www.yelp.co.uk/biz/the-z-hotel-piccadilly-london?hrid=rA5tr62KlVUDUdmNf_Zqjg&osq=hotels\n",
      "https://www.yelp.co.uk/biz/the-ritz-london-london-2?hrid=UFK56AGA1egTK1DR56OyGA&osq=hotels\n",
      "https://www.yelp.co.uk/biz/the-soho-hotel-london?hrid=o-df2QLvY9qOqRzHzwA8gA&osq=hotels\n",
      "https://www.yelp.co.uk/biz/hotel-41-london?hrid=JrSNwhU6t7MSD3qFt7X0Dw&osq=hotels\n",
      "https://www.yelp.co.uk/biz/kimpton-fitzroy-london-london?hrid=j0TuVaNbh1St51fFPvpXAw&osq=hotels\n",
      "https://www.yelp.co.uk/biz/hub-premier-inn-london?hrid=Hdq8bsQL-M4K3MhOct2dsg&osq=hotels\n"
     ]
    }
   ],
   "source": [
    "\n",
    "for element in mores:\n",
    "    items = element.get_attribute(\"href\")\n",
    "    "
   ]
  }
 ],
 "metadata": {
  "interpreter": {
   "hash": "770021e68aae5e5bc49f7a3b6edb919a4a251fef8e7696fd47196c25263b13c4"
  },
  "kernelspec": {
   "display_name": "Python 3.9.7 ('base')",
   "language": "python",
   "name": "python3"
  },
  "language_info": {
   "codemirror_mode": {
    "name": "ipython",
    "version": 3
   },
   "file_extension": ".py",
   "mimetype": "text/x-python",
   "name": "python",
   "nbconvert_exporter": "python",
   "pygments_lexer": "ipython3",
   "version": "3.9.7"
  },
  "orig_nbformat": 4
 },
 "nbformat": 4,
 "nbformat_minor": 2
}
