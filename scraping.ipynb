{
 "cells": [
  {
   "cell_type": "code",
   "execution_count": 3,
   "metadata": {},
   "outputs": [],
   "source": [
    "import selenium\n",
    "from selenium import webdriver\n",
    "from selenium.webdriver.common.keys import Keys\n",
    "from selenium.webdriver.common.by import By\n",
    "from time import sleep"
   ]
  },
  {
   "cell_type": "code",
   "execution_count": 52,
   "metadata": {},
   "outputs": [],
   "source": [
    "pth = 'chromedriver.exe'\n",
    "driver = webdriver.Chrome(pth)\n",
    "for i in range(0,240,10):\n",
    "    url = f'https://www.yelp.co.uk/search?find_desc=hotels&find_loc=London%2C+United+Kingdom&start={i}'\n",
    " \n",
    "    \n",
    "    driver.get(url)\n",
    "    sleep(3)\n",
    "    try:\n",
    "        button =driver.find_element(By.XPATH, \"/html/body/div[2]/div[3]/div/div[1]/div/div[2]/div/button[3]\").click()\n",
    "    except:\n",
    "        pass\n",
    "    for i in range(4,14):\n",
    "        name = driver.find_elements_by_xpath(f\"/html/body/yelp-react-root/div[1]/div[3]/div[2]/div/div[1]/div/main/div/ul/li[{i}]/div/div/div/div[2]/div[1]/div[1]\")\n",
    "                                                # /html/body/yelp-react-root/div[1]/div[3]/div[2]/div/div[1]/div/main/div/ul/li[4]/div/div/div/div[2]/div[1]/div[1]\n",
    "                                                # /html/body/yelp-react-root/div[1]/div[3]/div[2]/div/div[1]/div/main/div/ul/li[13]/div/div/div/div[2]/div[1]/div\n",
    "        hotel_name = []\n",
    "        for element in name:\n",
    "            hotel_name.append(element.text)\n",
    "\n",
    "    \n",
    "    # driver.quit()"
   ]
  },
  {
   "cell_type": "code",
   "execution_count": 53,
   "metadata": {},
   "outputs": [],
   "source": [
    "\n",
    "mores = driver.find_element_by_class_name(\"css-1um3nx\")\n",
    "mores.click()\n"
   ]
  }
 ],
 "metadata": {
  "interpreter": {
   "hash": "770021e68aae5e5bc49f7a3b6edb919a4a251fef8e7696fd47196c25263b13c4"
  },
  "kernelspec": {
   "display_name": "Python 3.9.7 ('base')",
   "language": "python",
   "name": "python3"
  },
  "language_info": {
   "codemirror_mode": {
    "name": "ipython",
    "version": 3
   },
   "file_extension": ".py",
   "mimetype": "text/x-python",
   "name": "python",
   "nbconvert_exporter": "python",
   "pygments_lexer": "ipython3",
   "version": "3.9.7"
  },
  "orig_nbformat": 4
 },
 "nbformat": 4,
 "nbformat_minor": 2
}
